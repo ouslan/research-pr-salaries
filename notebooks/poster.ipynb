{
 "cells": [
  {
   "cell_type": "code",
   "execution_count": null,
   "id": "2c7f708a",
   "metadata": {},
   "outputs": [],
   "source": [
    "import os\n",
    "os.chdir(\"..\")"
   ]
  },
  {
   "cell_type": "code",
   "execution_count": null,
   "id": "43068946",
   "metadata": {},
   "outputs": [],
   "source": [
    "from src.data.data_process import DataReg\n",
    "import polars as pl\n",
    "import requests\n",
    "import bambi as bmb\n",
    "import geopandas as gpd\n",
    "from pysal.lib import weights\n",
    "from shapely import wkt\n",
    "import pandas as pd\n",
    "import arviz as az\n",
    "import matplotlib.dates as mdates\n",
    "import numpy as np\n",
    "import causalpy as cp\n",
    "import matplotlib.pyplot as plt\n",
    "dr = DataReg()"
   ]
  },
  {
   "cell_type": "code",
   "execution_count": null,
   "id": "a5ba0eaa",
   "metadata": {},
   "outputs": [],
   "source": [
    "pr_zips = gpd.GeoDataFrame(dr.make_spatial_table().df())\n",
    "pr_zips[\"geometry\"] = pr_zips[\"geometry\"].apply(wkt.loads)\n",
    "pr_zips = pr_zips.set_geometry(\"geometry\")\n",
    "pr_zips[\"zipcode\"] = pr_zips[\"zipcode\"].astype(str)\n",
    "pr_zips.plot()"
   ]
  },
  {
   "cell_type": "code",
   "execution_count": null,
   "id": "e757681d",
   "metadata": {},
   "outputs": [],
   "source": [
    "w_adaptive = weights.contiguity.Queen.from_dataframe(\n",
    "    pr_zips\n",
    ")"
   ]
  },
  {
   "cell_type": "code",
   "execution_count": null,
   "id": "8764b2d3",
   "metadata": {},
   "outputs": [],
   "source": [
    "# Create full matrix version of weights\n",
    "full_matrix, ids = w_adaptive.full()\n",
    "# Set up figure with two subplots in a row\n",
    "f, ax = plt.subplots(\n",
    "    1, 2, figsize=(15, 10)\n",
    ")\n",
    "# Append weights for first polygon and plot on first subplot\n",
    "pr_zips.assign(weight_0=full_matrix[10]).plot(\n",
    "    \"weight_0\", cmap=\"plasma\", ax=ax[0]\n",
    ")\n",
    "\n",
    "# Add titles\n",
    "ax[0].set_title(\"Kernel centered on first tract\")\n",
    "# Remove axis\n",
    "[ax_.set_axis_off() for ax_ in ax]\n"
   ]
  }
 ],
 "metadata": {
  "kernelspec": {
   "display_name": ".venv",
   "language": "python",
   "name": "python3"
  },
  "language_info": {
   "codemirror_mode": {
    "name": "ipython",
    "version": 3
   },
   "file_extension": ".py",
   "mimetype": "text/x-python",
   "name": "python",
   "nbconvert_exporter": "python",
   "pygments_lexer": "ipython3",
   "version": "3.13.3"
  }
 },
 "nbformat": 4,
 "nbformat_minor": 5
}
