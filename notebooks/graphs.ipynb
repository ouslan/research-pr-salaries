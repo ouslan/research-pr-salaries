{
 "cells": [
  {
   "cell_type": "code",
   "execution_count": null,
   "id": "10f47216",
   "metadata": {},
   "outputs": [],
   "source": [
    "import os\n",
    "os.chdir(\"..\")"
   ]
  },
  {
   "cell_type": "code",
   "execution_count": null,
   "id": "23ab7773",
   "metadata": {},
   "outputs": [],
   "source": [
    "from src.data.data_process import DataReg\n",
    "import arviz as az\n",
    "import bambi as bmb\n",
    "import matplotlib.pyplot as plt\n",
    "from dotenv import load_dotenv\n",
    "import os\n",
    "\n",
    "load_dotenv()\n",
    "\n",
    "az.style.use(\"arviz-darkgrid\")\n"
   ]
  },
  {
   "cell_type": "code",
   "execution_count": null,
   "id": "af1d6792",
   "metadata": {},
   "outputs": [],
   "source": [
    "# Separate lists for each group\n",
    "local_results = []\n",
    "foreign_results = []\n",
    "\n",
    "# First pass: load and rename data\n",
    "for file in os.listdir(\"data/processed/processed\"):\n",
    "    results = az.from_netcdf(f\"data/processed/processed/{file}\")\n",
    "    parts = file[:-3].split(\"_\")\n",
    "    \n",
    "    name = f\"Kaits for Naics {parts[2]}\"\n",
    "    name_dict = {'log_k_index': name}\n",
    "    results.rename(name_dict, inplace=True)\n",
    "\n",
    "    if parts[1] == \"local\":\n",
    "        local_results.append((results, name))\n",
    "    else:\n",
    "        foreign_results.append((results, name))\n",
    "\n",
    "# Figure size based on number of plots\n",
    "n_local = len(local_results)\n",
    "n_foreign = len(foreign_results)\n",
    "n_rows = max(n_local, n_foreign)\n",
    "\n",
    "fig, axes = plt.subplots(n_rows, 2, figsize=(12, 3 * n_rows), squeeze=False)\n",
    "\n",
    "# Plot local (column 0)\n",
    "for i, (idata, varname) in enumerate(local_results):\n",
    "    az.plot_posterior(idata, var_names=[varname], ax=axes[i, 0])\n",
    "    axes[i, 0].set_title(f\"Local: {varname}\")\n",
    "\n",
    "# Plot foreign (column 1)\n",
    "for i, (idata, varname) in enumerate(foreign_results):\n",
    "    az.plot_posterior(idata, var_names=[varname], ax=axes[i, 1])\n",
    "    axes[i, 1].set_title(f\"Foreign: {varname}\")\n",
    "\n",
    "# Hide unused axes\n",
    "for i in range(n_rows):\n",
    "    if i >= n_local:\n",
    "        axes[i, 0].axis('off')\n",
    "    if i >= n_foreign:\n",
    "        axes[i, 1].axis('off')\n",
    "\n",
    "# Overall formatting\n",
    "fig.suptitle(\"Posterior Distributions of log_k_index by Group\", fontsize=16)\n",
    "plt.tight_layout(rect=[0, 0, 1, 0.97])\n",
    "plt.show()"
   ]
  },
  {
   "cell_type": "code",
   "execution_count": null,
   "id": "de4f2a51",
   "metadata": {},
   "outputs": [],
   "source": [
    "results = az.from_netcdf(\"data/processed/processed/results_local_21.nc\")\n",
    "az.plot_trace(results)"
   ]
  },
  {
   "cell_type": "code",
   "execution_count": null,
   "id": "7dd84e3e",
   "metadata": {},
   "outputs": [],
   "source": [
    "\n",
    "\n",
    "fig, axes = plt.subplots(1, 2, figsize=(12, 4))\n",
    "\n",
    "az.plot_posterior(results, var_names=[\"log_k_index\"], ax=axes[0])\n",
    "az.plot_posterior(results2, var_names=[\"log_k_index\"], ax=axes[1])\n",
    "\n",
    "axes[0].set_title(\"Empresas PR\")\n",
    "axes[1].set_title(\"Empresas Foreaneas\")\n",
    "\n",
    "plt.tight_layout()\n",
    "plt.show()"
   ]
  }
 ],
 "metadata": {
  "kernelspec": {
   "display_name": ".venv",
   "language": "python",
   "name": "python3"
  },
  "language_info": {
   "codemirror_mode": {
    "name": "ipython",
    "version": 3
   },
   "file_extension": ".py",
   "mimetype": "text/x-python",
   "name": "python",
   "nbconvert_exporter": "python",
   "pygments_lexer": "ipython3",
   "version": "3.10.17"
  }
 },
 "nbformat": 4,
 "nbformat_minor": 5
}
