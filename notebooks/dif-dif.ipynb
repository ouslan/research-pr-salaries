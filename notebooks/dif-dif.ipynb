{
 "cells": [
  {
   "cell_type": "code",
   "execution_count": null,
   "metadata": {},
   "outputs": [],
   "source": [
    "import os\n",
    "os.chdir(\"..\")"
   ]
  },
  {
   "cell_type": "code",
   "execution_count": null,
   "metadata": {},
   "outputs": [],
   "source": [
    "from src.data.data_process import DataReg\n",
    "import polars as pl\n",
    "import arviz as az\n",
    "import matplotlib.dates as mdates\n",
    "import numpy as np\n",
    "import geopandas as gpd\n",
    "import causalpy as cp\n",
    "import pandas as pd\n",
    "from shapely import wkt\n",
    "import matplotlib.pyplot as plt\n",
    "dr = DataReg()"
   ]
  },
  {
   "cell_type": "code",
   "execution_count": null,
   "metadata": {},
   "outputs": [],
   "source": [
    "df = dr.conn.sql(\"SELECT first_month_employment, second_month_employment, third_month_employment, ui_addr_5_zip, qtr, year FROM qcewtable\").pl()"
   ]
  },
  {
   "cell_type": "code",
   "execution_count": null,
   "metadata": {},
   "outputs": [],
   "source": [
    "pr_zips = gpd.GeoDataFrame(dr.make_spatial_table().df())\n",
    "pr_zips[\"geometry\"] = pr_zips[\"geometry\"].apply(wkt.loads)\n",
    "pr_zips = pr_zips.set_geometry(\"geometry\")\n",
    "pr_zips[\"zipcode\"] = pr_zips[\"zipcode\"].astype(str)\n",
    "empty_df = [pl.Series(\"date\", [], dtype=pl.String)]\n",
    "for zips in list(pr_zips[\"zipcode\"].values):\n",
    "    empty_df.append(pl.Series(f\"zip_{zips}\", [], dtype=pl.Int32))\n",
    "df_master = pl.DataFrame(empty_df)\n",
    "df_master\n",
    "\n",
    "tmp = df.drop_nulls()\n",
    "tmp = tmp.filter(pl.col(\"ui_addr_5_zip\").is_in(list(pr_zips[\"zipcode\"].values)))\n",
    "tmp  = tmp.group_by([\"year\", \"qtr\",\"ui_addr_5_zip\"]).agg(\n",
    "    first_month_employment = pl.col(\"first_month_employment\").sum(),\n",
    "    second_month_employment = pl.col(\"second_month_employment\").sum(),\n",
    "    third_month_employment = pl.col(\"third_month_employment\").sum()\n",
    ")\n",
    "tmp = tmp.with_columns(\n",
    "    ui_addr_5_zip=\"zip_\" + pl.col(\"ui_addr_5_zip\")\n",
    ")\n",
    "tmp.melt(\n",
    "    \n",
    ")"
   ]
  },
  {
   "cell_type": "code",
   "execution_count": null,
   "metadata": {},
   "outputs": [],
   "source": [
    "\n"
   ]
  }
 ],
 "metadata": {
  "kernelspec": {
   "display_name": ".venv",
   "language": "python",
   "name": "python3"
  },
  "language_info": {
   "codemirror_mode": {
    "name": "ipython",
    "version": 3
   },
   "file_extension": ".py",
   "mimetype": "text/x-python",
   "name": "python",
   "nbconvert_exporter": "python",
   "pygments_lexer": "ipython3",
   "version": "3.12.9"
  }
 },
 "nbformat": 4,
 "nbformat_minor": 2
}
