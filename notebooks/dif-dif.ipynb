{
 "cells": [
  {
   "cell_type": "code",
   "execution_count": null,
   "metadata": {},
   "outputs": [],
   "source": [
    "import os\n",
    "os.chdir(\"..\")"
   ]
  },
  {
   "cell_type": "code",
   "execution_count": null,
   "metadata": {},
   "outputs": [],
   "source": [
    "from src.data.data_process import DataReg\n",
    "import polars as pl\n",
    "import arviz as az\n",
    "import matplotlib.dates as mdates\n",
    "import numpy as np\n",
    "import geopandas as gpd\n",
    "import causalpy as cp\n",
    "import pandas as pd\n",
    "import arviz as az\n",
    "import bambi as bmb\n",
    "from shapely import wkt\n",
    "import matplotlib.pyplot as plt\n",
    "dr = DataReg()"
   ]
  },
  {
   "cell_type": "code",
   "execution_count": null,
   "metadata": {},
   "outputs": [],
   "source": [
    "df = dr.conn.sql(\"SELECT first_month_employment, second_month_employment, third_month_employment, ui_addr_5_zip, qtr, year FROM qcewtable\").pl()"
   ]
  },
  {
   "cell_type": "code",
   "execution_count": null,
   "metadata": {},
   "outputs": [],
   "source": [
    "dp03 = dr.conn.sql(\"SELECT * FROM DP03Table\").pl()\n",
    "pr_zips = gpd.GeoDataFrame(dr.make_spatial_table().df())\n",
    "pr_zips[\"geometry\"] = pr_zips[\"geometry\"].apply(wkt.loads)\n",
    "pr_zips = pr_zips.set_geometry(\"geometry\")\n",
    "pr_zips[\"zipcode\"] = pr_zips[\"zipcode\"].astype(str)\n",
    "gdf = pr_zips.join(\n",
    "                dp03.to_pandas().set_index(\"zipcode\"), on=\"zipcode\", how=\"inner\", validate=\"1:m\"\n",
    "        ).reset_index(drop=True)\n",
    "gdf[\"area\"]= gdf.area\n",
    "gdf = gdf.set_crs(epsg=4326, inplace=True)\n",
    "gdf = gdf.to_crs(epsg=32161)\n",
    "gdf[\"pop_area\"] = gdf[\"total_population\"] / (gdf.area / 2564102.5641026) \n",
    "tmp = gdf[gdf[\"year\"] == 2019]\n",
    "is_rural = tmp[tmp[\"pop_area\"] >= 500][\"zipcode\"].unique()"
   ]
  },
  {
   "cell_type": "code",
   "execution_count": null,
   "metadata": {},
   "outputs": [],
   "source": [
    "pr_zips = gpd.GeoDataFrame(dr.make_spatial_table().df())\n",
    "pr_zips[\"geometry\"] = pr_zips[\"geometry\"].apply(wkt.loads)\n",
    "pr_zips = pr_zips.set_geometry(\"geometry\")\n",
    "pr_zips[\"zipcode\"] = pr_zips[\"zipcode\"].astype(str)\n",
    "empty_df = [pl.Series(\"date\", [], dtype=pl.String)]\n",
    "for zips in list(pr_zips[\"zipcode\"].values):\n",
    "    empty_df.append(pl.Series(f\"zip_{zips}\", [], dtype=pl.Int32))\n",
    "df_master = pl.DataFrame(empty_df)\n",
    "df_master\n",
    "\n",
    "tmp = df.drop_nulls()\n",
    "tmp = tmp.filter(pl.col(\"ui_addr_5_zip\").is_in(list(pr_zips[\"zipcode\"].values)))\n",
    "tmp  = tmp.group_by([\"year\", \"qtr\",\"ui_addr_5_zip\"]).agg(\n",
    "    first_month_employment = pl.col(\"first_month_employment\").sum(),\n",
    "    second_month_employment = pl.col(\"second_month_employment\").sum(),\n",
    "    third_month_employment = pl.col(\"third_month_employment\").sum()\n",
    ")\n",
    "tmp\n"
   ]
  },
  {
   "cell_type": "code",
   "execution_count": null,
   "metadata": {},
   "outputs": [],
   "source": [
    "df = tmp.unpivot(\n",
    "    index=[\"year\", \"qtr\", \"ui_addr_5_zip\"],  # Keep these columns as identifiers\n",
    "    on=[\"first_month_employment\", \"second_month_employment\", \"third_month_employment\"],  # Columns to unpivot\n",
    "    variable_name=\"month\",  # Name of the new column representing the month\n",
    "    value_name=\"employment\"  # Name of the column for the employment values)\n",
    ")\n",
    "df = df.with_columns(\n",
    "        date=pl.when((pl.col(\"qtr\") == 1) & (pl.col(\"month\") == \"first_month_employment\")).then(pl.col(\"year\").cast(pl.String) + \"-01-01\")\n",
    "               .when((pl.col(\"qtr\") == 1) & (pl.col(\"month\") == \"second_month_employment\")).then(pl.col(\"year\").cast(pl.String) + \"-02-01\")\n",
    "               .when((pl.col(\"qtr\") == 1) & (pl.col(\"month\") == \"third_month_employment\")).then(pl.col(\"year\").cast(pl.String) + \"-03-01\")\n",
    "               .when((pl.col(\"qtr\") == 2) & (pl.col(\"month\") == \"first_month_employment\")).then(pl.col(\"year\").cast(pl.String) + \"-04-01\")\n",
    "               .when((pl.col(\"qtr\") == 2) & (pl.col(\"month\") == \"second_month_employment\")).then(pl.col(\"year\").cast(pl.String) + \"-05-01\")\n",
    "               .when((pl.col(\"qtr\") == 2) & (pl.col(\"month\") == \"third_month_employment\")).then(pl.col(\"year\").cast(pl.String) + \"-06-01\")\n",
    "               .when((pl.col(\"qtr\") == 3) & (pl.col(\"month\") == \"first_month_employment\")).then(pl.col(\"year\").cast(pl.String) + \"-07-01\")\n",
    "               .when((pl.col(\"qtr\") == 3) & (pl.col(\"month\") == \"second_month_employment\")).then(pl.col(\"year\").cast(pl.String) + \"-08-01\")\n",
    "               .when((pl.col(\"qtr\") == 3) & (pl.col(\"month\") == \"third_month_employment\")).then(pl.col(\"year\").cast(pl.String) + \"-09-01\")\n",
    "               .when((pl.col(\"qtr\") == 4) & (pl.col(\"month\") == \"first_month_employment\")).then(pl.col(\"year\").cast(pl.String) + \"-10-01\")\n",
    "               .when((pl.col(\"qtr\") == 4) & (pl.col(\"month\") == \"second_month_employment\")).then(pl.col(\"year\").cast(pl.String) + \"-11-01\")\n",
    "               .when((pl.col(\"qtr\") == 4) & (pl.col(\"month\") == \"third_month_employment\")).then(pl.col(\"year\").cast(pl.String) + \"-12-01\")\n",
    "               .otherwise(pl.lit(\"ERROR\"))\n",
    "    )\n",
    "df = df.select([\"date\",\"ui_addr_5_zip\",\"employment\"])\n",
    "df = df.with_columns(urban=pl.col(\"ui_addr_5_zip\").is_in(is_rural))\n",
    "df\n"
   ]
  },
  {
   "cell_type": "code",
   "execution_count": null,
   "metadata": {},
   "outputs": [],
   "source": [
    "data = df.to_pandas()\n",
    "data[\"date\"] = pd.to_datetime(data[\"date\"])\n",
    "data = data.sort_values(\"date\").reset_index(drop=True)\n",
    "\n",
    "# Set treatment date\n",
    "treatment_date = pd.to_datetime('2023-01-01')\n",
    "\n",
    "# Create post_treatment column (1 if date >= treatment date)\n",
    "data[\"post_treatment\"] = data[\"date\"] >= treatment_date\n",
    "\n",
    "# Convert date to integer: days relative to treatment date\n",
    "data[\"date\"] = (data[\"date\"] - treatment_date).dt.days\n",
    "\n",
    "# Cast boolean column(s) to int\n",
    "data[\"unit\"] = \"zip_\" + data[\"ui_addr_5_zip\"]\n",
    "data[\"urban\"] = data[\"urban\"].astype(int)\n",
    "\n",
    "data"
   ]
  },
  {
   "cell_type": "code",
   "execution_count": null,
   "metadata": {},
   "outputs": [],
   "source": [
    "result = cp.DifferenceInDifferences(\n",
    "    data,\n",
    "    formula=\"employment ~ 1 + urban*post_treatment\",\n",
    "    time_variable_name=\"date\",\n",
    "    group_variable_name=\"urban\",\n",
    "    model=cp.pymc_models.LinearRegression(),\n",
    ")"
   ]
  },
  {
   "cell_type": "code",
   "execution_count": null,
   "metadata": {},
   "outputs": [],
   "source": [
    "fig, ax = result.plot(round_to=3)"
   ]
  },
  {
   "cell_type": "code",
   "execution_count": null,
   "metadata": {},
   "outputs": [],
   "source": [
    "plt.savefig(\"test.png\")"
   ]
  }
 ],
 "metadata": {
  "kernelspec": {
   "display_name": ".venv",
   "language": "python",
   "name": "python3"
  },
  "language_info": {
   "codemirror_mode": {
    "name": "ipython",
    "version": 3
   },
   "file_extension": ".py",
   "mimetype": "text/x-python",
   "name": "python",
   "nbconvert_exporter": "python",
   "pygments_lexer": "ipython3",
   "version": "3.12.9"
  }
 },
 "nbformat": 4,
 "nbformat_minor": 2
}
