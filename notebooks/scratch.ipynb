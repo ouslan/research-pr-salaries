{
 "cells": [
  {
   "cell_type": "code",
   "execution_count": null,
   "metadata": {},
   "outputs": [],
   "source": [
    "import os\n",
    "os.chdir(\"..\")"
   ]
  },
  {
   "cell_type": "code",
   "execution_count": null,
   "metadata": {},
   "outputs": [],
   "source": [
    "from src.data.data_process import DataReg\n",
    "import polars as pl\n",
    "import requests\n",
    "import spreg\n",
    "from linearmodels.panel import PanelOLS\n",
    "import statsmodels.formula.api as smf\n",
    "import bambi as bmb\n",
    "import arviz as az \n",
    "from pysal.lib import weights\n",
    "import geopandas as gpd\n",
    "\n",
    "from shapely import wkt\n",
    "import pandas as pd\n",
    "\n",
    "import matplotlib.dates as mdates\n",
    "import numpy as np\n",
    "from pysal.lib import cg as geometry\n",
    "import causalpy as cp\n",
    "import matplotlib.pyplot as plt\n",
    "dr = DataReg()"
   ]
  },
  {
   "cell_type": "code",
   "execution_count": null,
   "metadata": {},
   "outputs": [],
   "source": [
    "df = dr.make_dataset()\n",
    "df"
   ]
  },
  {
   "cell_type": "code",
   "execution_count": null,
   "metadata": {},
   "outputs": [],
   "source": [
    "# Assuming `reg` is your DataFrame and you want to set the 'year' column as a datetime index\n",
    "data = df.copy()\n",
    "data[\"date2\"] = data[\"year\"] * 10 + data[\"qtr\"]\n",
    "data['date'] = data['date2'].astype('category')\n",
    "data['zipcode'] = data['date2'].astype('category')\n",
    "data"
   ]
  },
  {
   "cell_type": "code",
   "execution_count": null,
   "metadata": {},
   "outputs": [],
   "source": [
    "data_panel = data.set_index([\"zipcode\",\"date2\"])\n",
    "data_panel = data_panel.drop(\"geometry\", axis=1)\n",
    "model = PanelOLS.from_formula(\n",
    "    'total_employment ~ k_index + w_k_index + w_employment + own_children6 + own_children17 + commute_time + commute_car + food_stamp + with_social_security + EntityEffects',\n",
    "    data=data_panel\n",
    ")\n",
    "results = model.fit(cov_type='clustered', cluster_entity=True)\n",
    "print(results.summary)"
   ]
  },
  {
   "cell_type": "code",
   "execution_count": null,
   "metadata": {},
   "outputs": [],
   "source": [
    "y = data[\"total_employment\"].values.reshape(-1,1)\n",
    "x = data[[\"k_index\",\"own_children6\",\"own_children17\", \"commute_car\"]].values.reshape(-1,4)\n",
    "w = weights.Queen.from_dataframe(df[(df[\"year\"] == 2012) & (df[\"qtr\"] == 1)])\n",
    "fe_lag = spreg.Panel_FE_Lag(y, x, w)\n",
    "print(fe_lag.summary)"
   ]
  },
  {
   "cell_type": "code",
   "execution_count": null,
   "metadata": {},
   "outputs": [],
   "source": [
    "model = bmb.Model(\n",
    "    \"total_employment ~ 0 + k_index + w_k_index + w_employment + own_children6 + own_children17  + commute_car + food_stamp + with_social_security + date + zipcode\",\n",
    "    data, dropna=True,\n",
    ")\n",
    "results = model.fit(target_accept=0.99, draws=1000, cores=15)"
   ]
  },
  {
   "cell_type": "code",
   "execution_count": null,
   "metadata": {},
   "outputs": [],
   "source": [
    "# Plot posteriors\n",
    "az.plot_trace(\n",
    "    results,\n",
    "    compact=True,\n",
    ")"
   ]
  },
  {
   "cell_type": "code",
   "execution_count": null,
   "metadata": {},
   "outputs": [],
   "source": [
    "res = az.summary(results)\n",
    "res_filtered = res.loc[res.index.str.contains('k_index|with_social_security|w_employment')]\n",
    "res_filtered"
   ]
  },
  {
   "cell_type": "code",
   "execution_count": null,
   "metadata": {},
   "outputs": [],
   "source": []
  },
  {
   "cell_type": "code",
   "execution_count": null,
   "metadata": {},
   "outputs": [],
   "source": [
    "res[\"r_hat\"].max()"
   ]
  },
  {
   "cell_type": "code",
   "execution_count": null,
   "metadata": {},
   "outputs": [],
   "source": [
    "loo = az.loo(results)\n",
    "print(loo)"
   ]
  },
  {
   "cell_type": "code",
   "execution_count": null,
   "metadata": {},
   "outputs": [],
   "source": [
    "waic = az.waic(results)\n",
    "print(waic)"
   ]
  }
 ],
 "metadata": {
  "kernelspec": {
   "display_name": ".venv",
   "language": "python",
   "name": "python3"
  },
  "language_info": {
   "codemirror_mode": {
    "name": "ipython",
    "version": 3
   },
   "file_extension": ".py",
   "mimetype": "text/x-python",
   "name": "python",
   "nbconvert_exporter": "python",
   "pygments_lexer": "ipython3",
   "version": "3.12.9"
  }
 },
 "nbformat": 4,
 "nbformat_minor": 2
}
