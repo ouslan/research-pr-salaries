{
 "cells": [
  {
   "cell_type": "code",
   "execution_count": null,
   "metadata": {},
   "outputs": [],
   "source": [
    "import os\n",
    "os.chdir(\"..\")"
   ]
  },
  {
   "cell_type": "code",
   "execution_count": null,
   "metadata": {},
   "outputs": [],
   "source": [
    "from src.data.data_process import DataReg\n",
    "import polars as pl\n",
    "import requests\n",
    "import bambi as bmb\n",
    "import geopandas as gpd\n",
    "from pysal.lib import weights\n",
    "from shapely import wkt\n",
    "import pandas as pd\n",
    "import arviz as az\n",
    "import matplotlib.dates as mdates\n",
    "import numpy as np\n",
    "import causalpy as cp\n",
    "import matplotlib.pyplot as plt\n",
    "dr = DataReg()"
   ]
  },
  {
   "cell_type": "code",
   "execution_count": null,
   "metadata": {},
   "outputs": [],
   "source": [
    "df_qcew = dr.base_data().with_columns(\n",
    "    treatment=pl.when(pl.col(\"year\") >= 2023).then(True).otherwise(False)\n",
    ")\n",
    "# df_dp03 = dr.pull_dp03()\n",
    "pr_zips = gpd.GeoDataFrame(dr.make_spatial_table().df())\n",
    "pr_zips[\"geometry\"] = pr_zips[\"geometry\"].apply(wkt.loads)\n",
    "pr_zips = pr_zips.set_geometry(\"geometry\")\n",
    "pr_zips[\"zipcode\"] = pr_zips[\"zipcode\"].astype(str)\n",
    "\n",
    "# df = df_qcew.join(df_dp03, on=[\"zipcode\",\"year\"], how=\"inner\")\n",
    "df = pr_zips.join(\n",
    "    df_qcew.to_pandas().set_index(\"zipcode\"), on=\"zipcode\", how=\"inner\", validate=\"1:m\"\n",
    "        ).reset_index(drop=True)\n",
    "df = df.sort_values(\"year\").reset_index(drop=True)\n",
    "df"
   ]
  },
  {
   "cell_type": "code",
   "execution_count": null,
   "metadata": {},
   "outputs": [],
   "source": [
    "# sector_df = df[(df[\"sector\"] == \"61\")].reset_index(drop=True)\n",
    "y = df[\"total_employment\"].values.reshape(-1,1)\n",
    "w = weights.KNN.from_dataframe(df, k=5)\n",
    "reg = df\n",
    "reg[\"w_emplyment\"] = weights.lag_spatial(w,y) \n",
    "reg"
   ]
  },
  {
   "cell_type": "code",
   "execution_count": null,
   "metadata": {},
   "outputs": [],
   "source": [
    "# Assuming `reg` is your DataFrame and you want to set the 'year' column as a datetime index\n",
    "data = reg.copy()\n",
    "data = data.drop(\"geometry\", axis=1)\n",
    "# data = data.drop(\"sector\", axis=1)\n",
    "# data = data.drop(\"treatment\", axis=1)\n",
    "data['date'] = data['year'] * 10 + data['qtr']\n",
    "data"
   ]
  },
  {
   "cell_type": "code",
   "execution_count": null,
   "metadata": {},
   "outputs": [],
   "source": [
    "model = bmb.Model(\"total_employment ~ k_index + date + (1 + k_index|zipcode) + w_emplyment\", data)\n",
    "results = model.fit()"
   ]
  },
  {
   "cell_type": "code",
   "execution_count": null,
   "metadata": {},
   "outputs": [],
   "source": [
    "model.plot_priors()"
   ]
  },
  {
   "cell_type": "code",
   "execution_count": null,
   "metadata": {},
   "outputs": [],
   "source": [
    "# Plot posteriors\n",
    "az.plot_trace(\n",
    "    results,\n",
    "    compact=True,\n",
    ")"
   ]
  },
  {
   "cell_type": "code",
   "execution_count": null,
   "metadata": {},
   "outputs": [],
   "source": [
    "ppc = model.predict(results, kind=\"pps\", inplace=False)\n",
    "az.plot_ppc(ppc)\n"
   ]
  },
  {
   "cell_type": "code",
   "execution_count": null,
   "metadata": {},
   "outputs": [],
   "source": [
    "az.summary(results)"
   ]
  },
  {
   "cell_type": "code",
   "execution_count": null,
   "metadata": {},
   "outputs": [],
   "source": [
    "ppc = model.predict(results, kind=\"pps\", inplace=False)\n",
    "\n",
    "# Compute Bayesian R² manually from observed and predicted values\n",
    "r2_vals = az.r2_score(y=ppc.observed_data[\"total_employment\"],\n",
    "                      y_hat=ppc.posterior_predictive[\"total_employment\"])\n",
    "\n",
    "print(r2_vals.mean())  "
   ]
  }
 ],
 "metadata": {
  "kernelspec": {
   "display_name": ".venv",
   "language": "python",
   "name": "python3"
  },
  "language_info": {
   "codemirror_mode": {
    "name": "ipython",
    "version": 3
   },
   "file_extension": ".py",
   "mimetype": "text/x-python",
   "name": "python",
   "nbconvert_exporter": "python",
   "pygments_lexer": "ipython3",
   "version": "3.13.3"
  }
 },
 "nbformat": 4,
 "nbformat_minor": 2
}
