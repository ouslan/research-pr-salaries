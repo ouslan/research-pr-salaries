{
 "cells": [
  {
   "cell_type": "code",
   "execution_count": null,
   "metadata": {},
   "outputs": [],
   "source": [
    "import os\n",
    "\n",
    "os.chdir(\"..\")"
   ]
  },
  {
   "cell_type": "code",
   "execution_count": null,
   "metadata": {},
   "outputs": [],
   "source": [
    "from src.data.data_process import DataReg\n",
    "import bambi as bmb\n",
    "import arviz as az \n",
    "from pysal.lib import weights\n",
    "az.style.use(\"arviz-darkgrid\")\n",
    "\n",
    "\n",
    "dr = DataReg()"
   ]
  },
  {
   "cell_type": "code",
   "execution_count": null,
   "metadata": {},
   "outputs": [],
   "source": [
    "df = dr.regular_data(naics=\"11\")\n",
    "df"
   ]
  },
  {
   "cell_type": "code",
   "execution_count": null,
   "metadata": {},
   "outputs": [],
   "source": [
    "df[df[\"fereign\"] == 0]"
   ]
  },
  {
   "cell_type": "code",
   "execution_count": null,
   "id": "8d718435",
   "metadata": {},
   "outputs": [],
   "source": [
    "half_norm = bmb.Prior(\"HalfNormal\", mu=0, sd=3)"
   ]
  },
  {
   "cell_type": "code",
   "execution_count": null,
   "id": "1796eaca",
   "metadata": {},
   "outputs": [],
   "source": [
    "model = bmb.Model(\n",
    "    \"log_total_employment ~ 0 + zipcode + date2 + k_index + own_children6 + own_children17 + commute_car + food_stamp + with_social_security\",\n",
    "    df,\n",
    "    dropna=True,\n",
    ")\n",
    "model"
   ]
  },
  {
   "cell_type": "code",
   "execution_count": null,
   "id": "d82fb30c",
   "metadata": {},
   "outputs": [],
   "source": [
    "results = model.fit(\n",
    "    inference_method=\"nutpie\",\n",
    "    sample_kwargs={\"target_accept\": 0.8},\n",
    "    cores=10,\n",
    "    chains=10,\n",
    "    random_seed=787,\n",
    ")"
   ]
  },
  {
   "cell_type": "code",
   "execution_count": null,
   "metadata": {},
   "outputs": [],
   "source": [
    "t =az.summary(results)\n",
    "t"
   ]
  },
  {
   "cell_type": "code",
   "execution_count": null,
   "metadata": {},
   "outputs": [],
   "source": [
    "t[t[\"r_hat\"] >= 1.05]"
   ]
  },
  {
   "cell_type": "code",
   "execution_count": null,
   "id": "f7824900",
   "metadata": {},
   "outputs": [],
   "source": [
    "az.plot_trace(results, compact=False)"
   ]
  }
 ],
 "metadata": {
  "kernelspec": {
   "display_name": ".venv",
   "language": "python",
   "name": "python3"
  },
  "language_info": {
   "codemirror_mode": {
    "name": "ipython",
    "version": 3
   },
   "file_extension": ".py",
   "mimetype": "text/x-python",
   "name": "python",
   "nbconvert_exporter": "python",
   "pygments_lexer": "ipython3",
   "version": "3.10.18"
  }
 },
 "nbformat": 4,
 "nbformat_minor": 2
}
