{
 "cells": [
  {
   "cell_type": "code",
   "execution_count": null,
   "metadata": {},
   "outputs": [],
   "source": [
    "import os\n",
    "os.chdir(\"..\")"
   ]
  },
  {
   "cell_type": "code",
   "execution_count": null,
   "metadata": {},
   "outputs": [],
   "source": [
    "from src.data.data_process import DataReg\n",
    "import polars as pl\n",
    "import requests\n",
    "import spreg\n",
    "from linearmodels.panel import PanelOLS\n",
    "import statsmodels.formula.api as smf\n",
    "import bambi as bmb\n",
    "import arviz as az \n",
    "import geopandas as gpd\n",
    "from pysal.lib import weights\n",
    "from shapely import wkt\n",
    "import pandas as pd\n",
    "\n",
    "import matplotlib.dates as mdates\n",
    "import numpy as np\n",
    "from pysal.lib import cg as geometry\n",
    "import causalpy as cp\n",
    "import matplotlib.pyplot as plt\n",
    "dr = DataReg()"
   ]
  },
  {
   "cell_type": "code",
   "execution_count": null,
   "metadata": {},
   "outputs": [],
   "source": [
    "df = dr.make_dataset()\n",
    "df = df.sort_values(by=[\"year\",\"qtr\",\"zipcode\"]).reset_index(drop=True)\n",
    "df"
   ]
  },
  {
   "cell_type": "code",
   "execution_count": null,
   "metadata": {},
   "outputs": [],
   "source": [
    "# w = weights.distance.DistanceBand.from_dataframe(df[(df[\"year\"]== 2012) & (df[\"qtr\"]== 1)], 1609.344 * 20, binary=True)\n",
    "w = weights.Queen.from_dataframe(df[(df[\"year\"]== 2012) & (df[\"qtr\"]== 1)])"
   ]
  },
  {
   "cell_type": "code",
   "execution_count": null,
   "metadata": {},
   "outputs": [],
   "source": [
    "def calculate_spatial_lag(df, w, column):\n",
    "    # Reshape y to match the number of rows in the dataframe\n",
    "    y = df[column].values.reshape(-1, 1)\n",
    "    \n",
    "    # Apply spatial lag\n",
    "    spatial_lag = weights.lag_spatial(w, y)\n",
    "    \n",
    "    return spatial_lag\n",
    "\n",
    "# Initialize an empty list to store results\n",
    "spatial_lag_results = []\n",
    "\n",
    "# Assuming `df` has 'year' and 'quarter' columns for grouping\n",
    "for year in range(2012,2019):\n",
    "    for qtr in range(1,5):\n",
    "        group_df = df[(df[\"year\"]== year) & (df[\"qtr\"] == qtr)].reset_index(drop=True)\n",
    "        spatial_lag_y = calculate_spatial_lag(group_df, w, 'total_employment')\n",
    "        spatial_lag_x = calculate_spatial_lag(group_df, w, 'k_index')\n",
    "    \n",
    "        # Add the spatial lag results back to the group dataframe\n",
    "        group_df['w_employment'] = spatial_lag_y.flatten()  # Flatten to make it 1D for the column\n",
    "        group_df['W_k_index'] = spatial_lag_x.flatten()\n",
    "        \n",
    "        # Append the group to the results list\n",
    "        spatial_lag_results.append(group_df)\n",
    "\n",
    "# Concatenate all the results back together\n",
    "reg = pd.concat(spatial_lag_results)\n",
    "reg"
   ]
  },
  {
   "cell_type": "code",
   "execution_count": null,
   "metadata": {},
   "outputs": [],
   "source": [
    "# Assuming `reg` is your DataFrame and you want to set the 'year' column as a datetime index\n",
    "data = reg.copy()\n",
    "data"
   ]
  },
  {
   "cell_type": "code",
   "execution_count": null,
   "metadata": {},
   "outputs": [],
   "source": [
    "mod = smf.ols(\"total_employment ~ 0 + k_index + W_k_index + w_employment\", data=data).fit()\n",
    "print(mod.summary())"
   ]
  },
  {
   "cell_type": "code",
   "execution_count": null,
   "metadata": {},
   "outputs": [],
   "source": [
    "y = data[\"total_employment\"].values.reshape(-1,1)\n",
    "x = data[\"k_index\"].values.reshape(-1,1)"
   ]
  },
  {
   "cell_type": "code",
   "execution_count": null,
   "metadata": {},
   "outputs": [],
   "source": [
    "fe_lag = spreg.Panel_FE_Lag(y, x, w)\n",
    "print(fe_lag.summary)"
   ]
  },
  {
   "cell_type": "code",
   "execution_count": null,
   "metadata": {},
   "outputs": [],
   "source": []
  },
  {
   "cell_type": "code",
   "execution_count": null,
   "metadata": {},
   "outputs": [],
   "source": [
    "spreg.spsearch.gets_sdm(y,x,w)"
   ]
  },
  {
   "cell_type": "code",
   "execution_count": null,
   "metadata": {},
   "outputs": [],
   "source": [
    "model = bmb.Model(\n",
    "    \"total_employment ~ 0 + k_index + W_k_index + w_employment + (1|zipcode)\",\n",
    "    data, dropna=True\n",
    ")\n",
    "results = model.fit(target_accept=0.95)"
   ]
  },
  {
   "cell_type": "code",
   "execution_count": null,
   "metadata": {},
   "outputs": [],
   "source": [
    "# model = bmb.Model(\"total_employment ~ k_index + date + (1 + k_index|zipcode) + w_emplyment + inc_less_10k + inc_10k_15k + inc_15k_25k + inc_25k_35k + inc_35k_50k +  inc_50k_75k + inc_75k_100k + inc_100k_150k + inc_150k_200k\", data, dropna=True)\n",
    "# "
   ]
  },
  {
   "cell_type": "code",
   "execution_count": null,
   "metadata": {},
   "outputs": [],
   "source": [
    "model.plot_priors()"
   ]
  },
  {
   "cell_type": "code",
   "execution_count": null,
   "metadata": {},
   "outputs": [],
   "source": [
    "# Plot posteriors\n",
    "az.plot_trace(\n",
    "    results,\n",
    "    compact=True,\n",
    ")"
   ]
  },
  {
   "cell_type": "code",
   "execution_count": null,
   "metadata": {},
   "outputs": [],
   "source": [
    "res = az.summary(results)\n",
    "res"
   ]
  },
  {
   "cell_type": "code",
   "execution_count": null,
   "metadata": {},
   "outputs": [],
   "source": [
    "az.plot_forest(results, combined=True, hdi_prob=0.94)"
   ]
  }
 ],
 "metadata": {
  "kernelspec": {
   "display_name": ".venv",
   "language": "python",
   "name": "python3"
  },
  "language_info": {
   "codemirror_mode": {
    "name": "ipython",
    "version": 3
   },
   "file_extension": ".py",
   "mimetype": "text/x-python",
   "name": "python",
   "nbconvert_exporter": "python",
   "pygments_lexer": "ipython3",
   "version": "3.13.3"
  }
 },
 "nbformat": 4,
 "nbformat_minor": 2
}
