{
 "cells": [
  {
   "cell_type": "code",
   "execution_count": null,
   "metadata": {},
   "outputs": [],
   "source": [
    "import os\n",
    "os.chdir(\"..\")"
   ]
  },
  {
   "cell_type": "code",
   "execution_count": null,
   "metadata": {},
   "outputs": [],
   "source": [
    "from src.data.data_process import DataReg\n",
    "import polars as pl\n",
    "import requests\n",
    "import geopandas as gpd\n",
    "from pysal.lib import weights\n",
    "from shapely import wkt\n",
    "import pandas as pd\n",
    "import arviz as az\n",
    "import matplotlib.dates as mdates\n",
    "import numpy as np\n",
    "import causalpy as cp\n",
    "import matplotlib.pyplot as plt\n",
    "dr = DataReg()"
   ]
  },
  {
   "cell_type": "code",
   "execution_count": null,
   "metadata": {},
   "outputs": [],
   "source": [
    "df_qcew = dr.base_data().with_columns(\n",
    "    treatment=pl.when(pl.col(\"year\") >= 2023).then(True).otherwise(False)\n",
    ")\n",
    "# df_dp03 = dr.pull_dp03()\n",
    "pr_zips = gpd.GeoDataFrame(dr.make_spatial_table().df())\n",
    "pr_zips[\"geometry\"] = pr_zips[\"geometry\"].apply(wkt.loads)\n",
    "pr_zips = pr_zips.set_geometry(\"geometry\")\n",
    "pr_zips[\"zipcode\"] = pr_zips[\"zipcode\"].astype(str)\n",
    "\n",
    "# df = df_qcew.join(df_dp03, on=[\"zipcode\",\"year\"], how=\"inner\")\n",
    "df = pr_zips.join(\n",
    "    df_qcew.to_pandas().set_index(\"zipcode\"), on=\"zipcode\", how=\"inner\", validate=\"1:m\"\n",
    "        ).reset_index(drop=True)\n",
    "df = df.sort_values(\"year\").reset_index(drop=True)\n",
    "df"
   ]
  },
  {
   "cell_type": "code",
   "execution_count": null,
   "metadata": {},
   "outputs": [],
   "source": [
    "sector_df = df[(df[\"sector\"] == \"61\")].reset_index(drop=True)\n",
    "y = sector_df[\"total_employment\"].values.reshape(-1,1)\n",
    "w = weights.distance.DistanceBand.from_dataframe(\n",
    "    sector_df, 80467\n",
    ")\n",
    "reg = sector_df\n",
    "reg[\"w_emplyment\"] = weights.lag_spatial(w,y) \n",
    "reg"
   ]
  },
  {
   "cell_type": "code",
   "execution_count": null,
   "metadata": {},
   "outputs": [],
   "source": [
    "# Assuming `reg` is your DataFrame and you want to set the 'year' column as a datetime index\n",
    "data = reg.copy()\n",
    "data = data.drop(\"geometry\", axis=1)\n",
    "data = data.drop(\"sector\", axis=1)\n",
    "data = data.drop(\"treatment\", axis=1)\n",
    "# Make sure the 'year' column is converted to datetime, assuming 'year' contains just the year (e.g., 2025)\n",
    "data['year'] = pd.to_datetime(data['year'], format='%Y')\n",
    "\n",
    "# Now set 'year' as the index and drop the 'year' column\n",
    "data.index = data['year']\n",
    "data = data.drop('year', axis=1)\n",
    "data = data.drop(\"zipcode\", axis=1)\n",
    "data_grouped = data.groupby(data.index.year).mean()\n",
    "data_grouped.index = pd.to_datetime(data_grouped.index, format='%Y')\n",
    "data_grouped"
   ]
  },
  {
   "cell_type": "code",
   "execution_count": null,
   "metadata": {},
   "outputs": [],
   "source": [
    "treatment_index = pd.to_datetime(2023, format='%Y')\n",
    "model = cp.skl_models.WeightedProportion()\n",
    "formula = 'total_employment ~ 0 + w_emplyment + k_index'"
   ]
  },
  {
   "cell_type": "code",
   "execution_count": null,
   "metadata": {},
   "outputs": [],
   "source": [
    "results = cp.SyntheticControl(\n",
    "data_grouped,\n",
    "treatment_index,\n",
    "formula=formula,\n",
    "model=model,\n",
    ")"
   ]
  },
  {
   "cell_type": "code",
   "execution_count": null,
   "metadata": {},
   "outputs": [],
   "source": [
    "fig, ax = results.plot(plot_predictors=True)"
   ]
  },
  {
   "cell_type": "code",
   "execution_count": null,
   "metadata": {},
   "outputs": [],
   "source": [
    "treatment_time = pd.to_datetime(\"2020-01-01\")\n",
    "result = cp.InterruptedTimeSeries(\n",
    "    demeaned_data,\n",
    "    treatment_time,\n",
    "    formula=\"total_employment ~ 0 + k_index + total_employment\",\n",
    "    model=cp.pymc_models.LinearRegression(),\n",
    ")"
   ]
  }
 ],
 "metadata": {
  "kernelspec": {
   "display_name": ".venv",
   "language": "python",
   "name": "python3"
  },
  "language_info": {
   "codemirror_mode": {
    "name": "ipython",
    "version": 3
   },
   "file_extension": ".py",
   "mimetype": "text/x-python",
   "name": "python",
   "nbconvert_exporter": "python",
   "pygments_lexer": "ipython3",
   "version": "3.12.9"
  }
 },
 "nbformat": 4,
 "nbformat_minor": 2
}
