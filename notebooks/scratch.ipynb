{
 "cells": [
  {
   "cell_type": "code",
   "execution_count": null,
   "metadata": {},
   "outputs": [],
   "source": [
    "import os\n",
    "os.chdir(\"..\")"
   ]
  },
  {
   "cell_type": "code",
   "execution_count": null,
   "metadata": {},
   "outputs": [],
   "source": [
    "from src.data.data_process import DataReg\n",
    "import polars as pl\n",
    "import requests\n",
    "import geopandas as gpd\n",
    "from shapely import wkt\n",
    "dr = DataReg()"
   ]
  },
  {
   "cell_type": "code",
   "execution_count": null,
   "metadata": {},
   "outputs": [],
   "source": [
    "dr.pull_dp03()"
   ]
  },
  {
   "cell_type": "code",
   "execution_count": null,
   "metadata": {},
   "outputs": [],
   "source": [
    "gdf = gpd.GeoDataFrame(dr.make_spatial_table().df())\n",
    "gdf[\"geometry\"] = gdf[\"geometry\"].apply(wkt.loads)\n",
    "gdf = gdf.set_geometry(\"geometry\")\n",
    "gdf[\"zipcode\"] = gdf[\"zipcode\"].astype(str)\n",
    "gdf.plot()\n"
   ]
  },
  {
   "cell_type": "code",
   "execution_count": null,
   "metadata": {},
   "outputs": [],
   "source": [
    "gdf = gpd.read_file(f\"{dr.saving_dir}external/zips_shape.zip\")\n",
    "gdf = gdf[gdf[\"ZCTA5CE20\"].str.startswith(\"00\")]\n",
    "gdf = gdf.rename(columns={\"ZCTA5CE20\": \"zipcode\"}).reset_index()\n",
    "gdf"
   ]
  },
  {
   "cell_type": "code",
   "execution_count": null,
   "metadata": {},
   "outputs": [],
   "source": [
    "_year = 2012\n",
    "tmp = dr.pull_query(\n",
    "    params=[\n",
    "        \"DP03_0051E\",\n",
    "        \"DP03_0052E\",\n",
    "        \"DP03_0053E\",\n",
    "        \"DP03_0054E\",\n",
    "        \"DP03_0055E\",\n",
    "        \"DP03_0056E\",\n",
    "        \"DP03_0057E\",\n",
    "        \"DP03_0058E\",\n",
    "        \"DP03_0059E\",\n",
    "        \"DP03_0060E\",\n",
    "        \"DP03_0061E\",\n",
    "    ],\n",
    "    year=_year,\n",
    ")\n",
    "tmp = tmp.rename(\n",
    "    {\n",
    "        \"dp03_0051e\": \"total_house\",\n",
    "        \"dp03_0052e\": \"inc_less_10k\",\n",
    "        \"dp03_0053e\": \"inc_10k_15k\",\n",
    "        \"dp03_0054e\": \"inc_15k_25k\",\n",
    "        \"dp03_0055e\": \"inc_25k_35k\",\n",
    "        \"dp03_0056e\": \"inc_35k_50k\",\n",
    "        \"dp03_0057e\": \"inc_50k_75k\",\n",
    "        \"dp03_0058e\": \"inc_75k_100k\",\n",
    "        \"dp03_0059e\": \"inc_100k_150k\",\n",
    "        \"dp03_0060e\": \"inc_150k_200k\",\n",
    "        \"dp03_0061e\": \"inc_more_200k\",\n",
    "    }\n",
    ")\n",
    "tmp = tmp.rename({\"zip code tabulation area\": \"zipcode\"})\n",
    "tmp."
   ]
  },
  {
   "cell_type": "code",
   "execution_count": null,
   "metadata": {},
   "outputs": [],
   "source": [
    "params=[\n",
    "    \"DP03_0051E\",\n",
    "    \"DP03_0052E\",\n",
    "    \"DP03_0053E\",\n",
    "    \"DP03_0054E\",\n",
    "    \"DP03_0055E\",\n",
    "    \"DP03_0056E\",\n",
    "    \"DP03_0057E\",\n",
    "    \"DP03_0058E\",\n",
    "    \"DP03_0059E\",\n",
    "    \"DP03_0060E\",\n",
    "    \"DP03_0061E\",\n",
    "]\n",
    "year = 2012\n",
    "param = \",\".join(params)\n",
    "base = \"https://api.census.gov/data/\"\n",
    "flow = \"/acs/acs5/profile\"\n",
    "url = f\"{base}{year}{flow}?get={param}&for=zip%20code%20tabulation%20area:*&in=state:72\"\n",
    "df = pl.DataFrame(requests.get(url).json())\n",
    "\n",
    "# get names from DataFrame\n",
    "names = df.select(pl.col(\"column_0\")).transpose()\n",
    "names = names.to_dicts().pop()\n",
    "names = dict((k, v.lower()) for k, v in names.items())\n",
    "\n",
    "# Pivot table\n",
    "df = df.drop(\"column_0\").transpose()\n",
    "df.rename(names).with_columns(year=pl.lit(year))"
   ]
  }
 ],
 "metadata": {
  "kernelspec": {
   "display_name": ".venv",
   "language": "python",
   "name": "python3"
  },
  "language_info": {
   "codemirror_mode": {
    "name": "ipython",
    "version": 3
   },
   "file_extension": ".py",
   "mimetype": "text/x-python",
   "name": "python",
   "nbconvert_exporter": "python",
   "pygments_lexer": "ipython3",
   "version": "3.12.9"
  }
 },
 "nbformat": 4,
 "nbformat_minor": 2
}
