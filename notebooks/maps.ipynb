{
 "cells": [
  {
   "cell_type": "code",
   "execution_count": null,
   "metadata": {},
   "outputs": [],
   "source": [
    "import os\n",
    "os.chdir(\"..\")"
   ]
  },
  {
   "cell_type": "code",
   "execution_count": null,
   "metadata": {},
   "outputs": [],
   "source": [
    "from src.data.data_process import DataReg\n",
    "import polars as pl\n",
    "import matplotlib.dates as mdates\n",
    "import geopandas as gpd\n",
    "from mapclassify import Quantiles\n",
    "import pandas as pd\n",
    "import numpy as np\n",
    "from shapely import wkt         \n",
    "import matplotlib.pyplot as plt\n",
    "dr = DataReg()"
   ]
  },
  {
   "cell_type": "code",
   "execution_count": null,
   "metadata": {},
   "outputs": [],
   "source": [
    "pr_zips = gpd.GeoDataFrame(dr.make_spatial_table().df())\n",
    "pr_zips[\"geometry\"] = pr_zips[\"geometry\"].apply(wkt.loads)\n",
    "pr_zips = pr_zips.set_geometry(\"geometry\")\n",
    "pr_zips[\"zipcode\"] = pr_zips[\"zipcode\"].astype(str)\n",
    "pr_zips"
   ]
  },
  {
   "cell_type": "code",
   "execution_count": null,
   "metadata": {},
   "outputs": [],
   "source": [
    "df = pl.read_parquet(\"data/impact.parquet\").with_columns(pl.col(\"zipcode\").str.replace(\"zip_\",\"\"))\n",
    "gdf = pr_zips.join(\n",
    "                df.to_pandas().set_index(\"zipcode\"), on=\"zipcode\", how=\"inner\"\n",
    "        ).reset_index(drop=True)\n",
    "gdf"
   ]
  },
  {
   "cell_type": "code",
   "execution_count": null,
   "metadata": {},
   "outputs": [],
   "source": [
    "# Assuming gdf is your GeoDataFrame\n",
    "data = gdf[\"impact\"].round()\n",
    "\n",
    "# Define custom bins such that 0 is in the center\n",
    "quantile_values = np.percentile(data[data != 0], [0, 25, 50, 75, 100])\n",
    "\n",
    "# Make sure 0 is in the middle, adjust bins around it\n",
    "bins = list(quantile_values)\n",
    "\n",
    "# Create a custom classification using Quantiles\n",
    "classifier = Quantiles(data, k=len(bins)-1)\n",
    "\n",
    "# Manually assign the bins to the GeoDataFrame based on your custom bins\n",
    "gdf[\"impact_bins\"] = pd.cut(data, bins=bins, include_lowest=True)\n",
    "\n",
    "# Plot with custom binning and 'viridis' colormap\n",
    "gdf.plot(\n",
    "    column=\"impact_bins\",\n",
    "    legend=True,\n",
    "    figsize=(15, 10),\n",
    "    cmap='viridis',  # Apply the 'viridis' colormap\n",
    "    missing_kwds={\n",
    "        \"color\": \"lightgrey\",\n",
    "        \"edgecolor\": \"red\",\n",
    "        \"hatch\": \"///\",\n",
    "        \"label\": \"Missing values\",\n",
    "    },\n",
    ")"
   ]
  }
 ],
 "metadata": {
  "kernelspec": {
   "display_name": ".venv",
   "language": "python",
   "name": "python3"
  },
  "language_info": {
   "codemirror_mode": {
    "name": "ipython",
    "version": 3
   },
   "file_extension": ".py",
   "mimetype": "text/x-python",
   "name": "python",
   "nbconvert_exporter": "python",
   "pygments_lexer": "ipython3",
   "version": "3.13.3"
  }
 },
 "nbformat": 4,
 "nbformat_minor": 2
}
