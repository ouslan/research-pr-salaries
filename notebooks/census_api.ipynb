{
 "cells": [
  {
   "cell_type": "code",
   "execution_count": null,
   "id": "6f9dafe1",
   "metadata": {},
   "outputs": [],
   "source": [
    "import pandas as pd\n",
    "import polars as pl\n",
    "import requests"
   ]
  },
  {
   "cell_type": "code",
   "execution_count": null,
   "id": "40b98f4a",
   "metadata": {},
   "outputs": [],
   "source": [
    "def pull_query(params: list, year: int) -> pl.DataFrame:\n",
    "    # prepare custom census query\n",
    "    param = \",\".join(params)\n",
    "    base = \"https://api.census.gov/data/\"\n",
    "    flow = \"/acs/acs5/profile\"\n",
    "    url = f\"{base}{year}{flow}?get={param}&for=zip%20code%20tabulation%20area:*\"\n",
    "    df = pl.DataFrame(requests.get(url).json())\n",
    "\n",
    "    # get names from DataFrame\n",
    "    names = df.select(pl.col(\"column_0\")).transpose()\n",
    "    names = names.to_dicts().pop()\n",
    "    names = dict((k, v.lower()) for k, v in names.items())\n",
    "\n",
    "    # Pivot table\n",
    "    df = df.drop(\"column_0\").transpose()\n",
    "    return df.rename(names).with_columns(year=pl.lit(year))\n",
    "\n",
    "def pull_dp04() -> pl.DataFrame:\n",
    "    empty_df = [\n",
    "        pl.Series(\"total_units\",[],dtype=pl.String),\n",
    "        pl.Series(\"vacancy_rate\",[],dtype=pl.String),\n",
    "        pl.Series(\"median_owner_occupied_value\",[],dtype=pl.String),\n",
    "        pl.Series(\"median_rent_gross\",[],dtype=pl.String),\n",
    "        pl.Series(\"median_mortgage\",[],dtype=pl.String),\n",
    "        pl.Series(\"zipcode\",[],dtype=pl.String),\n",
    "        pl.Series(\"year\",[],dtype=pl.Int32),\n",
    "    ]\n",
    "    df = pl.DataFrame(empty_df)\n",
    "    for _year in range(2011, 2024):\n",
    "        print(_year)\n",
    "        tmp = pull_query(\n",
    "            params=[\n",
    "                \"DP04_0001E\",\n",
    "                \"DP04_0004E\",\n",
    "                \"DP04_0089E\",\n",
    "                \"DP04_0134E\",\n",
    "                \"DP04_0101E\"\n",
    "            ],\n",
    "            year=_year,\n",
    "        )\n",
    "        tmp = tmp.rename(\n",
    "            {\n",
    "                \"dp04_0001e\": \"total_units\",\n",
    "                \"dp04_0004e\": \"vacancy_rate\",\n",
    "                \"dp04_0089e\": \"median_owner_occupied_value\",\n",
    "                \"dp04_0134e\": \"median_rent_gross\",\n",
    "                \"dp04_0101e\": \"median_mortgage\"\n",
    "            }\n",
    "        )\n",
    "        if _year < 2020:\n",
    "            tmp = tmp.rename({\"zip code tabulation area\": \"zipcode\"}).drop([\"state\"])\n",
    "        else:\n",
    "            tmp = tmp.rename({\"zip code tabulation area\": \"zipcode\"})\n",
    "        df = pl.concat([df,tmp], how=\"vertical\")\n",
    "    return df"
   ]
  },
  {
   "cell_type": "code",
   "execution_count": null,
   "id": "39d765c3",
   "metadata": {},
   "outputs": [],
   "source": [
    "# df = pull_query([\n",
    "#                 \"DP04_0001E\",\n",
    "#                 \"DP04_0004E\",\n",
    "#                 \"DP04_0089E\",\n",
    "#                 \"DP04_0134E\",\n",
    "#                 \"DP04_0101E\"\n",
    "#             ], 2024)\n",
    "# df "
   ]
  },
  {
   "cell_type": "code",
   "execution_count": null,
   "id": "6b84b339",
   "metadata": {},
   "outputs": [],
   "source": [
    "# df.drop([\"state\"]).drop([\"state\"])"
   ]
  },
  {
   "cell_type": "code",
   "execution_count": null,
   "id": "82d631ae",
   "metadata": {},
   "outputs": [],
   "source": [
    "df = pull_dp04()\n",
    "df"
   ]
  },
  {
   "cell_type": "code",
   "execution_count": null,
   "id": "e7940a74",
   "metadata": {},
   "outputs": [],
   "source": [
    "df.write_csv(\"dp04.csv\")"
   ]
  }
 ],
 "metadata": {
  "kernelspec": {
   "display_name": ".venv",
   "language": "python",
   "name": "python3"
  },
  "language_info": {
   "codemirror_mode": {
    "name": "ipython",
    "version": 3
   },
   "file_extension": ".py",
   "mimetype": "text/x-python",
   "name": "python",
   "nbconvert_exporter": "python",
   "pygments_lexer": "ipython3",
   "version": "3.12.9"
  }
 },
 "nbformat": 4,
 "nbformat_minor": 5
}
