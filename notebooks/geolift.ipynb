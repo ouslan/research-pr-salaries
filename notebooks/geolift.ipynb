{
 "cells": [
  {
   "cell_type": "code",
   "execution_count": null,
   "metadata": {},
   "outputs": [],
   "source": [
    "import os\n",
    "os.chdir(\"..\")"
   ]
  },
  {
   "cell_type": "code",
   "execution_count": null,
   "metadata": {},
   "outputs": [],
   "source": [
    "from src.data.data_process import DataReg\n",
    "import polars as pl\n",
    "import arviz as az\n",
    "import matplotlib.dates as mdates\n",
    "import numpy as np\n",
    "import geopandas as gpd\n",
    "import causalpy as cp\n",
    "import pandas as pd\n",
    "from shapely import wkt\n",
    "import matplotlib.pyplot as plt\n",
    "dr = DataReg()"
   ]
  },
  {
   "cell_type": "code",
   "execution_count": null,
   "metadata": {},
   "outputs": [],
   "source": [
    "df = dr.conn.sql(\"SELECT first_month_employment, second_month_employment, third_month_employment, ui_addr_5_zip, qtr, year FROM qcewtable\").pl()"
   ]
  },
  {
   "cell_type": "code",
   "execution_count": null,
   "metadata": {},
   "outputs": [],
   "source": [
    "pr_zips = gpd.GeoDataFrame(dr.make_spatial_table().df())\n",
    "pr_zips[\"geometry\"] = pr_zips[\"geometry\"].apply(wkt.loads)\n",
    "pr_zips = pr_zips.set_geometry(\"geometry\")\n",
    "pr_zips[\"zipcode\"] = pr_zips[\"zipcode\"].astype(str)\n",
    "empty_df = [pl.Series(\"date\", [], dtype=pl.String)]\n",
    "for zips in list(pr_zips[\"zipcode\"].values):\n",
    "    empty_df.append(pl.Series(f\"zip_{zips}\", [], dtype=pl.Int32))\n",
    "df_master = pl.DataFrame(empty_df)\n",
    "df_master\n",
    "\n",
    "tmp = df.drop_nulls()\n",
    "tmp = tmp.filter(pl.col(\"ui_addr_5_zip\").is_in(list(pr_zips[\"zipcode\"].values)))\n",
    "tmp  = tmp.group_by([\"year\", \"qtr\",\"ui_addr_5_zip\"]).agg(\n",
    "    first_month_employment = pl.col(\"first_month_employment\").sum(),\n",
    "    second_month_employment = pl.col(\"second_month_employment\").sum(),\n",
    "    third_month_employment = pl.col(\"third_month_employment\").sum()\n",
    ")\n",
    "\n",
    "tmp = tmp.with_columns(\n",
    "    ui_addr_5_zip=\"zip_\" + pl.col(\"ui_addr_5_zip\")\n",
    ")"
   ]
  },
  {
   "cell_type": "code",
   "execution_count": null,
   "metadata": {},
   "outputs": [],
   "source": [
    "def foo(df:pl.DataFrame, year, qtr):\n",
    "    df = df.filter((pl.col(\"year\") == year) & (pl.col(\"qtr\") == qtr))\n",
    "    if df.is_empty():\n",
    "        return df\n",
    "    names = df.select(pl.col(\"ui_addr_5_zip\")).transpose()\n",
    "    names = names.to_dicts().pop()\n",
    "    df = df.drop(\"year\", \"qtr\", \"ui_addr_5_zip\").transpose(include_header=True)\n",
    "    df = df.rename(names)\n",
    "    df = df.with_columns(\n",
    "        date=pl.when((qtr == 1) & (pl.col(\"column\") == \"first_month_employment\")).then(pl.lit(f\"{year}-01-01\"))\n",
    "               .when((qtr == 1) & (pl.col(\"column\") == \"second_month_employment\")).then(pl.lit(f\"{year}-02-01\"))\n",
    "               .when((qtr == 1) & (pl.col(\"column\") == \"third_month_employment\")).then(pl.lit(f\"{year}-03-01\"))\n",
    "               .when((qtr == 2) & (pl.col(\"column\") == \"first_month_employment\")).then(pl.lit(f\"{year}-04-01\"))\n",
    "               .when((qtr == 2) & (pl.col(\"column\") == \"second_month_employment\")).then(pl.lit(f\"{year}-05-01\"))\n",
    "               .when((qtr == 2) & (pl.col(\"column\") == \"third_month_employment\")).then(pl.lit(f\"{year}-06-01\"))\n",
    "               .when((qtr == 3) & (pl.col(\"column\") == \"first_month_employment\")).then(pl.lit(f\"{year}-07-01\"))\n",
    "               .when((qtr == 3) & (pl.col(\"column\") == \"second_month_employment\")).then(pl.lit(f\"{year}-08-01\"))\n",
    "               .when((qtr == 3) & (pl.col(\"column\") == \"third_month_employment\")).then(pl.lit(f\"{year}-09-01\"))\n",
    "               .when((qtr == 4) & (pl.col(\"column\") == \"first_month_employment\")).then(pl.lit(f\"{year}-10-01\"))\n",
    "               .when((qtr == 4) & (pl.col(\"column\") == \"second_month_employment\")).then(pl.lit(f\"{year}-11-01\"))\n",
    "               .when((qtr == 4) & (pl.col(\"column\") == \"third_month_employment\")).then(pl.lit(f\"{year}-12-01\"))\n",
    "               .otherwise(pl.lit(\"ERROR\"))\n",
    "    )\n",
    "    return df.drop(\"column\")"
   ]
  },
  {
   "cell_type": "code",
   "execution_count": null,
   "metadata": {},
   "outputs": [],
   "source": [
    "for year in range(2002, 2025):\n",
    "    for qtr in range(1,5):\n",
    "        something = foo(tmp,year, qtr)\n",
    "        if something.is_empty():\n",
    "            continue\n",
    "        df_master = pl.concat([df_master, something], how=\"diagonal\")"
   ]
  },
  {
   "cell_type": "code",
   "execution_count": null,
   "metadata": {},
   "outputs": [],
   "source": [
    "data = df_master\n",
    "columns_with_nulls = [col for col in data.columns if data[col].is_null().any()]\n",
    "\n",
    "data = data.drop(columns_with_nulls)\n",
    "data = data.to_pandas()\n",
    "data[\"date\"] = pd.to_datetime(data[\"date\"])\n",
    "treatment_time = pd.to_datetime(\"2023-01-01\")\n",
    "data.index = pd.to_datetime(data['date'])\n",
    "data = data.drop('date', axis=1)"
   ]
  },
  {
   "cell_type": "code",
   "execution_count": null,
   "metadata": {},
   "outputs": [],
   "source": [
    "formula = \"zip_00680 ~ 0\"\n",
    "for col in data.columns:\n",
    "    if col == \"zip_00680\":\n",
    "        continue\n",
    "    formula += f\" + {col}\"\n",
    "formula"
   ]
  },
  {
   "cell_type": "code",
   "execution_count": null,
   "metadata": {},
   "outputs": [],
   "source": [
    "# Geolift reg\n",
    "result = cp.SyntheticControl(\n",
    "    data,\n",
    "    treatment_time,\n",
    "    formula=formula,\n",
    "    model=cp.pymc_models.WeightedSumFitter(\n",
    "        sample_kwargs={\"target_accept\": 0.99, \"tune\": 2000}\n",
    "    ),\n",
    ")"
   ]
  },
  {
   "cell_type": "code",
   "execution_count": null,
   "metadata": {},
   "outputs": [],
   "source": [
    "fig, ax = result.plot(plot_predictors=False)\n",
    "\n",
    "# formatting\n",
    "ax[2].tick_params(axis=\"x\", labelrotation=-90)\n",
    "ax[2].xaxis.set_major_formatter(mdates.DateFormatter(\"%Y\"))\n",
    "ax[2].xaxis.set_major_locator(mdates.YearLocator())\n",
    "for i in [0, 1, 2]:\n",
    "    ax[i].set(ylabel=\"Employment\")"
   ]
  }
 ],
 "metadata": {
  "kernelspec": {
   "display_name": ".venv",
   "language": "python",
   "name": "python3"
  },
  "language_info": {
   "codemirror_mode": {
    "name": "ipython",
    "version": 3
   },
   "file_extension": ".py",
   "mimetype": "text/x-python",
   "name": "python",
   "nbconvert_exporter": "python",
   "pygments_lexer": "ipython3",
   "version": "3.12.9"
  }
 },
 "nbformat": 4,
 "nbformat_minor": 2
}
