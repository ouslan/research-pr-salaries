{
 "cells": [
  {
   "cell_type": "code",
   "execution_count": null,
   "id": "6015e284",
   "metadata": {},
   "outputs": [],
   "source": [
    "import os\n",
    "os.chdir(\"..\")"
   ]
  },
  {
   "cell_type": "code",
   "execution_count": null,
   "id": "625aa3d8",
   "metadata": {},
   "outputs": [],
   "source": [
    "from src.data.data_process import DataReg\n",
    "import arviz as az\n",
    "import bambi as bmb\n",
    "import matplotlib.pyplot as plt\n",
    "from linearmodels.panel import RandomEffects, PanelOLS\n",
    "import polars as pl\n",
    "\n",
    "dr = DataReg()"
   ]
  },
  {
   "cell_type": "code",
   "execution_count": null,
   "id": "3fe24ff9",
   "metadata": {},
   "outputs": [],
   "source": [
    "df_qcew = dr.regular_data()\n",
    "\n",
    "df_qcew.group_by([\"year\", \"qtr\", \"ein\"]).agg(\n",
    "            total_employment=pl.col(\"total_employment\").sum(),\n",
    "        )\n",
    "tmp = dr.base_spatial_data().select(pl.col([\"year\",\"qtr\",\"k_index\"]))\n",
    "tmp"
   ]
  }
 ],
 "metadata": {
  "kernelspec": {
   "display_name": ".venv",
   "language": "python",
   "name": "python3"
  },
  "language_info": {
   "codemirror_mode": {
    "name": "ipython",
    "version": 3
   },
   "file_extension": ".py",
   "mimetype": "text/x-python",
   "name": "python",
   "nbconvert_exporter": "python",
   "pygments_lexer": "ipython3",
   "version": "3.12.10"
  }
 },
 "nbformat": 4,
 "nbformat_minor": 5
}
