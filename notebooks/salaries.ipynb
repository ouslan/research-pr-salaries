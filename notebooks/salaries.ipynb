{
 "cells": [
  {
   "cell_type": "code",
   "execution_count": null,
   "id": "6015e284",
   "metadata": {},
   "outputs": [],
   "source": [
    "import os\n",
    "os.chdir(\"..\")"
   ]
  },
  {
   "cell_type": "code",
   "execution_count": null,
   "id": "625aa3d8",
   "metadata": {},
   "outputs": [],
   "source": [
    "from src.data.data_process import DataReg\n",
    "import arviz as az\n",
    "import bambi as bmb\n",
    "import matplotlib.pyplot as plt\n",
    "from linearmodels.panel import RandomEffects, PanelOLS\n",
    "import polars as pl\n",
    "import numpy as np\n",
    "dr = DataReg()"
   ]
  },
  {
   "cell_type": "code",
   "execution_count": null,
   "id": "93d03d33",
   "metadata": {},
   "outputs": [],
   "source": [
    "dr.conn.sql(\"SELECT * FROM qcewtable WHERE ein=='660567825'\").pl() #INFO We cound manualy obtain if they are foreing"
   ]
  },
  {
   "cell_type": "code",
   "execution_count": null,
   "id": "c7883270",
   "metadata": {},
   "outputs": [],
   "source": [
    "dr = DataReg()\n",
    "\n",
    "df_qcew = dr.regular_data().filter(pl.col(\"year\")>=2012)\n",
    "df_qcew = df_qcew.filter(pl.col(\"ein\") != \"\")\n",
    "pr_zips = dr.spatial_data()[\"zipcode\"].to_list()\n",
    "\n",
    "df_qcew = df_qcew.with_columns(\n",
    "    foreign=pl.when(pl.col(\"ui_addr_5_zip\").is_in(pr_zips)).then(0).otherwise(1)\n",
    ")\n",
    "\n",
    "df_qcew = df_qcew.group_by([\"year\", \"qtr\", \"zipcode\", \"ein\"]).agg(\n",
    "        total_employment=pl.col(\"total_employment\").sum(),\n",
    "        total_wages=pl.col(\"total_wages\").sum(),\n",
    "        foreign=pl.col(\"foreign\").mean()\n",
    "        )\n",
    "df_qcew = df_qcew.filter((pl.col(\"foreign\") == 1) | (pl.col(\"foreign\") == 0))\n",
    "\n",
    "# df_qcew = df_qcew.filter(pl.col(\"year\")>= 2020)\n",
    "\n",
    "tmp = pl.from_pandas(dr.make_spatial_dataset().drop(\"geometry\", axis=1))\n",
    "\n",
    "master = df_qcew.join(tmp,on=[\"year\",\"qtr\",\"zipcode\"], how=\"inner\", validate=\"m:1\")\n",
    "\n",
    "# List of columns that we want to exclude\n",
    "exclude_columns = [\"year\", \"ein\", \"zipcode\", \"qtr\", \"state\"]\n",
    "\n",
    "# Get all columns except the excluded ones\n",
    "columns_to_transform = [col for col in master.columns if col not in exclude_columns]\n",
    "\n",
    "# Create a new list of expressions to add log-transformed columns\n",
    "log_columns = [\n",
    "    (pl.col(col).log().alias(f\"log_{col}\")) for col in columns_to_transform\n",
    "]\n",
    "\n",
    "# Add the log-transformed columns to the DataFrame\n",
    "master = master.with_columns(log_columns)\n",
    "master = master.with_columns(\n",
    "    k_dummy=pl.col(\"foreign\")* pl.col(\"log_k_index\")\n",
    ")\n",
    "\n",
    "data = master.to_pandas().copy()\n",
    "        \n",
    "data[\"date2\"] = data[\"year\"] * 10 + data[\"qtr\"] \n",
    "data['date'] = data['date2'].astype('category')\n",
    "data[\"main_id\"] = data['zipcode'] + \"-\" + data['ein']\n",
    "data['zipcode'] = data['zipcode'].astype('category')\n",
    "data['ein'] = data['ein'].astype('category')\n",
    "data[\"main_id\"] = data['main_id'].astype('category')\n",
    "data = data.sort_values([\"year\",\"qtr\",\"ein\"]).reset_index(drop=True)\n",
    "data"
   ]
  },
  {
   "cell_type": "code",
   "execution_count": null,
   "id": "2830c95f",
   "metadata": {},
   "outputs": [],
   "source": [
    "data[data[\"commute_car\"] == 0][\"zipcode\"].unique()"
   ]
  },
  {
   "cell_type": "markdown",
   "id": "f52ab904",
   "metadata": {},
   "source": [
    "- rain by naics (2 digits)\n",
    "- drop null zipcodes\n",
    "- broke down the 72 (remove food services as its own sector)\n",
    "- only the first 2 regression(0,1)\n"
   ]
  },
  {
   "cell_type": "code",
   "execution_count": null,
   "id": "580278ba",
   "metadata": {},
   "outputs": [],
   "source": [
    "data_pr = data[data[\"foreign\"] == 0]\n",
    "data_panel = data_pr.set_index([\"main_id\",\"date2\"])\n",
    "# data_panel = data_panel.drop(\"geometry\", axis=1)\n",
    "model = PanelOLS.from_formula(\n",
    "    'log_total_employment ~ log_k_index + own_children6 + own_children17 + commute_car + food_stamp + with_social_security + EntityEffects',\n",
    "    data=data_panel\n",
    ")\n",
    "results = model.fit(cov_type='clustered', cluster_entity=True)\n",
    "print(results.summary)"
   ]
  },
  {
   "cell_type": "code",
   "execution_count": null,
   "id": "a9bcb3e8",
   "metadata": {},
   "outputs": [],
   "source": [
    "data_pr = data[data[\"foreign\"] == 1]\n",
    "data_panel = data_pr.set_index([\"main_id\",\"date2\"])\n",
    "# data_panel = data_panel.drop(\"geometry\", axis=1)\n",
    "model = PanelOLS.from_formula(\n",
    "    'log_total_employment ~ log_k_index + own_children6 + own_children17 + commute_car + food_stamp + with_social_security + EntityEffects',\n",
    "    data=data_panel\n",
    ")\n",
    "results = model.fit(cov_type='clustered', cluster_entity=True)\n",
    "print(results.summary)"
   ]
  },
  {
   "cell_type": "code",
   "execution_count": null,
   "id": "32052d0c",
   "metadata": {},
   "outputs": [],
   "source": [
    "data_pr = data\n",
    "data_panel = data_pr.set_index([\"main_id\",\"date2\"])\n",
    "# data_panel = data_panel.drop(\"geometry\", axis=1)\n",
    "model = PanelOLS.from_formula(\n",
    "    'log_total_employment ~ log_k_index + k_dummy + own_children6 + own_children17 + commute_car + food_stamp + with_social_security + EntityEffects',\n",
    "    data=data_panel\n",
    ")\n",
    "results = model.fit(cov_type='clustered', cluster_entity=True)\n",
    "print(results.summary)"
   ]
  },
  {
   "cell_type": "code",
   "execution_count": null,
   "id": "fa795c62",
   "metadata": {},
   "outputs": [],
   "source": [
    "data_pr = data[data[\"foreign\"] == 0]\n",
    "model = bmb.Model(\n",
    "    \"total_employment ~ 0 + date + ein + k_index + own_children6 + own_children17 + commute_car + food_stamp + with_social_security\",\n",
    "    data_pr, dropna=True,\n",
    ")\n",
    "results = model.fit(sample_kwargs={\"nuts_sampler\" :\"blackjax\"},cores=15)\n",
    "\n"
   ]
  },
  {
   "cell_type": "code",
   "execution_count": null,
   "id": "12004cd7",
   "metadata": {},
   "outputs": [],
   "source": [
    "az.plot_trace(\n",
    "    results\n",
    ")"
   ]
  },
  {
   "cell_type": "code",
   "execution_count": null,
   "id": "93faa2ef",
   "metadata": {},
   "outputs": [],
   "source": [
    "\n",
    "\n",
    "plt.savefig(\"data/results/trace_plot_pr.png\", format=\"png\")\n",
    "\n",
    "res = az.summary(results)\n",
    "res.to_csv(\"data/results/results_pr.csv\")"
   ]
  },
  {
   "cell_type": "code",
   "execution_count": null,
   "id": "68e7ed6b",
   "metadata": {},
   "outputs": [],
   "source": [
    "data_pr = data[data[\"foreign\"] == 1]\n",
    "model = bmb.Model(\n",
    "    \"total_employment ~ 0 + k_index + own_children6 + own_children17  + commute_car + food_stamp + with_social_security\",\n",
    "    data_pr, dropna=True,\n",
    ")\n",
    "results = model.fit(sample_kwargs={\"nuts_sampler\" :\"blackjax\"},cores=15)\n",
    "\n",
    "az.plot_trace(\n",
    "    results\n",
    ")\n",
    "\n",
    "plt.savefig(\"data/results/trace_plot_foreing.png\", format=\"png\")\n",
    "\n",
    "res = az.summary(results)\n",
    "res.to_csv(\"data/results/results_foreing.csv\")"
   ]
  },
  {
   "cell_type": "code",
   "execution_count": null,
   "id": "9c16f6b1",
   "metadata": {},
   "outputs": [],
   "source": [
    "model = bmb.Model(\n",
    "    \"total_employment ~ 0 + k_index + k_dummy + own_children6 + own_children17  + commute_car + food_stamp + with_social_security\",\n",
    "    data, dropna=True,\n",
    ")\n",
    "results = model.fit(sample_kwargs={\"nuts_sampler\" :\"blackjax\"},cores=15)\n",
    "\n",
    "az.plot_trace(\n",
    "    results\n",
    ")\n",
    "\n",
    "plt.savefig(\"data/results/trace_plot_full.png\", format=\"png\")\n",
    "\n",
    "res = az.summary(results)\n",
    "res.to_csv(\"data/results/results_full.csv\")"
   ]
  }
 ],
 "metadata": {
  "kernelspec": {
   "display_name": ".venv",
   "language": "python",
   "name": "python3"
  },
  "language_info": {
   "codemirror_mode": {
    "name": "ipython",
    "version": 3
   },
   "file_extension": ".py",
   "mimetype": "text/x-python",
   "name": "python",
   "nbconvert_exporter": "python",
   "pygments_lexer": "ipython3",
   "version": "3.12.10"
  }
 },
 "nbformat": 4,
 "nbformat_minor": 5
}
