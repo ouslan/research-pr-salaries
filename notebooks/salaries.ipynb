{
 "cells": [
  {
   "cell_type": "code",
   "execution_count": null,
   "id": "6015e284",
   "metadata": {},
   "outputs": [],
   "source": [
    "import os\n",
    "os.chdir(\"..\")"
   ]
  },
  {
   "cell_type": "code",
   "execution_count": null,
   "id": "625aa3d8",
   "metadata": {},
   "outputs": [],
   "source": [
    "from src.data.data_process import DataReg\n",
    "import arviz as az\n",
    "import bambi as bmb\n",
    "import matplotlib.pyplot as plt\n",
    "from linearmodels.panel import RandomEffects, PanelOLS\n",
    "import polars as pl\n",
    "\n",
    "dr = DataReg()"
   ]
  },
  {
   "cell_type": "code",
   "execution_count": null,
   "id": "93d03d33",
   "metadata": {},
   "outputs": [],
   "source": [
    "dr.conn.sql(\"SELECT * FROM qcewtable WHERE ein=='660567825'\").pl() #INFO We cound manualy obtain if they are foreing"
   ]
  },
  {
   "cell_type": "code",
   "execution_count": null,
   "id": "c7883270",
   "metadata": {},
   "outputs": [],
   "source": [
    "dr = DataReg()\n",
    "\n",
    "df_qcew = dr.regular_data().filter(pl.col(\"year\")>=2012)\n",
    "pr_zips = dr.spatial_data()[\"zipcode\"].to_list()\n",
    "\n",
    "df_qcew = df_qcew.with_columns(\n",
    "    foreign=pl.when(pl.col(\"ui_addr_5_zip\").is_in(pr_zips)).then(0).otherwise(1)\n",
    ")\n",
    "\n",
    "df_qcew = df_qcew.group_by([\"year\", \"qtr\", \"zipcode\", \"ein\"]).agg(\n",
    "        total_employment=pl.col(\"total_employment\").sum(),\n",
    "        total_wages=pl.col(\"total_wages\").sum(),\n",
    "        foreign=pl.col(\"foreign\").mean()\n",
    "        )\n",
    "df_qcew = df_qcew.filter((pl.col(\"foreign\") == 1) | (pl.col(\"foreign\") == 0))\n",
    "\n",
    "tmp = pl.from_pandas(dr.make_spatial_dataset().drop(\"geometry\", axis=1))\n",
    "\n",
    "master = df_qcew.join(tmp,on=[\"year\",\"qtr\",\"zipcode\"], how=\"inner\", validate=\"m:1\")\n",
    "\n",
    "master = master.with_columns(\n",
    "    k_dummy=pl.col(\"foreign\")* pl.col(\"k_index\")\n",
    ")\n",
    "\n",
    "data = master.to_pandas().copy()\n",
    "data[\"date2\"] = data[\"year\"] * 10 + data[\"qtr\"]\n",
    "data['date'] = data['date2'].astype('category')\n",
    "data['zipcode'] = data['zipcode'].astype('category')\n",
    "data['ein'] = data['ein'].astype('category')\n",
    "data"
   ]
  },
  {
   "cell_type": "code",
   "execution_count": null,
   "id": "fa795c62",
   "metadata": {},
   "outputs": [],
   "source": [
    "data_pr = data[data[\"foreign\"] == 0]\n",
    "model = bmb.Model(\n",
    "    \"total_employment ~ 0 + k_index + own_children6 + own_children17  + commute_car + food_stamp + with_social_security\",\n",
    "    data_pr, dropna=True,\n",
    ")\n",
    "results = model.fit(sample_kwargs={\"nuts_sampler\" :\"blackjax\"},cores=15)\n",
    "\n",
    "az.plot_trace(\n",
    "    results\n",
    ")\n",
    "\n",
    "plt.savefig(\"data/results/trace_plot_pr.png\", format=\"png\")\n",
    "\n",
    "res = az.summary(results)\n",
    "res.to_csv(\"data/results/results_pr.csv\")"
   ]
  },
  {
   "cell_type": "code",
   "execution_count": null,
   "id": "68e7ed6b",
   "metadata": {},
   "outputs": [],
   "source": [
    "data_pr = data[data[\"foreign\"] == 1]\n",
    "model = bmb.Model(\n",
    "    \"total_employment ~ 0 + k_index + own_children6 + own_children17  + commute_car + food_stamp + with_social_security\",\n",
    "    data_pr, dropna=True,\n",
    ")\n",
    "results = model.fit(sample_kwargs={\"nuts_sampler\" :\"blackjax\"},cores=15)\n",
    "\n",
    "az.plot_trace(\n",
    "    results\n",
    ")\n",
    "\n",
    "plt.savefig(\"data/results/trace_plot_foreing.png\", format=\"png\")\n",
    "\n",
    "res = az.summary(results)\n",
    "res.to_csv(\"data/results/results_foreing.csv\")"
   ]
  },
  {
   "cell_type": "code",
   "execution_count": null,
   "id": "9c16f6b1",
   "metadata": {},
   "outputs": [],
   "source": [
    "model = bmb.Model(\n",
    "    \"total_employment ~ 0 + k_index + k_dummy + own_children6 + own_children17  + commute_car + food_stamp + with_social_security\",\n",
    "    data, dropna=True,\n",
    ")\n",
    "results = model.fit(sample_kwargs={\"nuts_sampler\" :\"blackjax\"},cores=15)\n",
    "\n",
    "az.plot_trace(\n",
    "    results\n",
    ")\n",
    "\n",
    "plt.savefig(\"data/results/trace_plot_full.png\", format=\"png\")\n",
    "\n",
    "res = az.summary(results)\n",
    "res.to_csv(\"data/results/results_full.csv\")"
   ]
  }
 ],
 "metadata": {
  "kernelspec": {
   "display_name": ".venv",
   "language": "python",
   "name": "python3"
  },
  "language_info": {
   "codemirror_mode": {
    "name": "ipython",
    "version": 3
   },
   "file_extension": ".py",
   "mimetype": "text/x-python",
   "name": "python",
   "nbconvert_exporter": "python",
   "pygments_lexer": "ipython3",
   "version": "3.10.17"
  }
 },
 "nbformat": 4,
 "nbformat_minor": 5
}
