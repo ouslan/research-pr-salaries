{
 "cells": [
  {
   "cell_type": "code",
   "execution_count": null,
   "id": "6015e284",
   "metadata": {},
   "outputs": [],
   "source": [
    "import os\n",
    "os.chdir(\"..\")"
   ]
  },
  {
   "cell_type": "code",
   "execution_count": null,
   "id": "625aa3d8",
   "metadata": {},
   "outputs": [],
   "source": [
    "from src.data.data_process import DataReg\n",
    "import arviz as az\n",
    "import bambi as bmb\n",
    "import matplotlib.pyplot as plt\n",
    "from dotenv import load_dotenv\n",
    "import os\n",
    "\n",
    "load_dotenv()\n",
    "\n",
    "az.style.use(\"arviz-darkgrid\")\n",
    "dr = DataReg()\n",
    "\n"
   ]
  },
  {
   "cell_type": "code",
   "execution_count": null,
   "id": "ae186255",
   "metadata": {},
   "outputs": [],
   "source": [
    "methods = bmb.inference_methods.names\n",
    "methods"
   ]
  },
  {
   "cell_type": "code",
   "execution_count": null,
   "id": "200821ce",
   "metadata": {},
   "outputs": [],
   "source": [
    "dr.notify(url=str(os.environ.get(\"URL\")),auth=str(os.environ.get(\"AUTH\")), msg=\"hi\")"
   ]
  },
  {
   "cell_type": "code",
   "execution_count": null,
   "id": "93d03d33",
   "metadata": {},
   "outputs": [],
   "source": [
    "dr.conn.sql(\"SELECT * FROM qcewtable WHERE ein=='660567825'\").pl() #INFO We cound manualy obtain if they are foreing"
   ]
  },
  {
   "cell_type": "code",
   "execution_count": null,
   "id": "2c2868e5",
   "metadata": {},
   "outputs": [],
   "source": [
    "data = dr.regular_data(naics=\"72-food\")\n",
    "data"
   ]
  },
  {
   "cell_type": "markdown",
   "id": "f52ab904",
   "metadata": {},
   "source": [
    "- rain by naics (2 digits)\n",
    "- drop null zipcodes\n",
    "- broke down the 72 (remove food services as its own sector)\n",
    "- only the first 2 regression(0,1)\n"
   ]
  },
  {
   "cell_type": "code",
   "execution_count": null,
   "id": "264c98de",
   "metadata": {},
   "outputs": [],
   "source": [
    "naics_code = [\n",
    "        \"11\",\n",
    "        \"21\",\n",
    "        \"22\",\n",
    "        \"23\",\n",
    "        \"31-33\",\n",
    "        \"42\",\n",
    "        \"44-45\",\n",
    "        \"48-49\",\n",
    "        \"51\",\n",
    "        \"52\",\n",
    "        \"54\",\n",
    "        \"55\",\n",
    "        \"56\",\n",
    "        \"61\",\n",
    "        \"62\",\n",
    "        \"71\",\n",
    "        \"72-accommodation\",\n",
    "        \"72-food\",\n",
    "        \"81\",\n",
    "        \"92\",\n",
    "    ]"
   ]
  },
  {
   "cell_type": "code",
   "execution_count": null,
   "id": "5e6fb351",
   "metadata": {},
   "outputs": [],
   "source": [
    "import warnings\n",
    "\n",
    "warnings.filterwarnings(\n",
    "    \"ignore\",\n",
    "    category=FutureWarning\n",
    ")\n",
    "warnings.filterwarnings(\n",
    "    \"ignore\",\n",
    "    category=UserWarning\n",
    ")\n",
    "for naics in naics_code:\n",
    "    data = dr.regular_data(naics=naics)\n",
    "    for i in [\"foreign\", \"local\"]:\n",
    "        if i == \"foreign\":\n",
    "            data_pr = data[data[\"foreign\"] == 1]\n",
    "        else:\n",
    "            data_pr = data[data[\"foreign\"] == 0]\n",
    "        print(f\"type: {i}, naics:{naics}, length {len(data_pr)}\")\n",
    "    "
   ]
  },
  {
   "cell_type": "code",
   "execution_count": null,
   "id": "a0f35315",
   "metadata": {},
   "outputs": [],
   "source": [
    "data = dr.regular_data(naics=naics)\n",
    "data_pr = data[data[\"foreign\"] == 0]"
   ]
  },
  {
   "cell_type": "code",
   "execution_count": null,
   "id": "fa795c62",
   "metadata": {},
   "outputs": [],
   "source": [
    "data = dr.regular_data(naics=\"21\")\n",
    "data_pr = data[data[\"foreign\"] == 0]\n",
    "model = bmb.Model(\n",
    "    \"log_total_employment ~ 0 + date + ein + log_k_index + own_children6 + own_children17 + commute_car + food_stamp + with_social_security\",\n",
    "    data_pr, dropna=True,\n",
    ")\n",
    "results = model.fit(inference_method=\"blackjax_nuts\",sample_kwargs={\n",
    "                        \"draws\": 500,\n",
    "                        \"tune\": 500,\n",
    "                        \"target_accept\": 0.8}\n",
    "                    ,cores=10, chains=10)\n",
    "\n"
   ]
  },
  {
   "cell_type": "code",
   "execution_count": null,
   "id": "418c500b",
   "metadata": {},
   "outputs": [],
   "source": [
    "# results = az.from_netcdf(\"data/processed/results_pr_model_21.nc\")\n",
    "az.plot_trace(results)"
   ]
  },
  {
   "cell_type": "code",
   "execution_count": null,
   "id": "8058a3c7",
   "metadata": {},
   "outputs": [],
   "source": [
    "results2 = az.from_netcdf(\"data/processed/processed/results_local_21.nc\")\n",
    "az.plot_trace(results2)"
   ]
  },
  {
   "cell_type": "code",
   "execution_count": null,
   "id": "71690f9f",
   "metadata": {},
   "outputs": [],
   "source": [
    "import matplotlib.pyplot as plt\n",
    "\n",
    "fig, axes = plt.subplots(1, 2, figsize=(12, 4))\n",
    "\n",
    "az.plot_posterior(results, var_names=[\"log_k_index\"], ax=axes[0])\n",
    "az.plot_posterior(results2, var_names=[\"log_k_index\"], ax=axes[1])\n",
    "\n",
    "axes[0].set_title(\"Empresas PR\")\n",
    "axes[1].set_title(\"Empresas Foreaneas\")\n",
    "\n",
    "plt.tight_layout()\n",
    "plt.show()"
   ]
  },
  {
   "cell_type": "code",
   "execution_count": null,
   "id": "9971767d",
   "metadata": {},
   "outputs": [],
   "source": [
    "az.plot_trace(results)"
   ]
  },
  {
   "cell_type": "code",
   "execution_count": null,
   "id": "c9fdfa13",
   "metadata": {},
   "outputs": [],
   "source": [
    "az.summary(results)"
   ]
  },
  {
   "cell_type": "code",
   "execution_count": null,
   "id": "12004cd7",
   "metadata": {},
   "outputs": [],
   "source": [
    "\n",
    "az.plot_trace(results, var_names=[\"log_k_index\"])"
   ]
  },
  {
   "cell_type": "code",
   "execution_count": null,
   "id": "b2df6d49",
   "metadata": {},
   "outputs": [],
   "source": [
    "az.summary(results)"
   ]
  }
 ],
 "metadata": {
  "kernelspec": {
   "display_name": ".venv",
   "language": "python",
   "name": "python3"
  },
  "language_info": {
   "codemirror_mode": {
    "name": "ipython",
    "version": 3
   },
   "file_extension": ".py",
   "mimetype": "text/x-python",
   "name": "python",
   "nbconvert_exporter": "python",
   "pygments_lexer": "ipython3",
   "version": "3.10.17"
  }
 },
 "nbformat": 4,
 "nbformat_minor": 5
}
