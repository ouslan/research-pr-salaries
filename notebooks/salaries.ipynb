{
 "cells": [
  {
   "cell_type": "code",
   "execution_count": null,
   "id": "6015e284",
   "metadata": {},
   "outputs": [],
   "source": [
    "import os\n",
    "os.chdir(\"..\")"
   ]
  },
  {
   "cell_type": "code",
   "execution_count": null,
   "id": "625aa3d8",
   "metadata": {},
   "outputs": [],
   "source": [
    "from src.data.data_process import DataReg\n",
    "import arviz as az\n",
    "import bambi as bmb\n",
    "import matplotlib.pyplot as plt\n",
    "from linearmodels.panel import RandomEffects, PanelOLS\n",
    "import polars as pl\n",
    "import numpy as np\n",
    "az.style.use(\"arviz-darkgrid\")\n",
    "dr = DataReg()"
   ]
  },
  {
   "cell_type": "code",
   "execution_count": null,
   "id": "93d03d33",
   "metadata": {},
   "outputs": [],
   "source": [
    "dr.conn.sql(\"SELECT * FROM qcewtable WHERE ein=='660567825'\").pl() #INFO We cound manualy obtain if they are foreing"
   ]
  },
  {
   "cell_type": "code",
   "execution_count": null,
   "id": "2c2868e5",
   "metadata": {},
   "outputs": [],
   "source": [
    "data = dr.regular_data(naics=\"21\")\n",
    "data"
   ]
  },
  {
   "cell_type": "code",
   "execution_count": null,
   "id": "28efa162",
   "metadata": {},
   "outputs": [],
   "source": [
    "data_pr = data[data[\"foreign\"] == 0]\n",
    "data_pr = data_pr[data_pr[\"year\"] > 2020]\n",
    "model = bmb.Model(\n",
    "    \"log_total_employment ~ 0 + date + ein + log_k_index + own_children6 + own_children17 + commute_car + food_stamp + with_social_security\",\n",
    "    data_pr, dropna=True,\n",
    ")\n",
    "results = model.fit()"
   ]
  },
  {
   "cell_type": "code",
   "execution_count": null,
   "id": "e7253d1f",
   "metadata": {},
   "outputs": [],
   "source": [
    "\n",
    "# results.posterior = results.posterior.rename({\"k_index\": \"k_index_51\"})\n",
    "az.plot_trace(results)"
   ]
  },
  {
   "cell_type": "markdown",
   "id": "f52ab904",
   "metadata": {},
   "source": [
    "- rain by naics (2 digits)\n",
    "- drop null zipcodes\n",
    "- broke down the 72 (remove food services as its own sector)\n",
    "- only the first 2 regression(0,1)\n"
   ]
  },
  {
   "cell_type": "code",
   "execution_count": null,
   "id": "580278ba",
   "metadata": {},
   "outputs": [],
   "source": [
    "data_pr = data[data[\"foreign\"] == 0]\n",
    "data_panel = data_pr.set_index([\"main_id\",\"date2\"])\n",
    "# data_panel = data_panel.drop(\"geometry\", axis=1)\n",
    "model = PanelOLS.from_formula(\n",
    "    'log_total_employment ~ log_k_index + own_children6 + own_children17 + commute_car + food_stamp + with_social_security + EntityEffects',\n",
    "    data=data_panel\n",
    ")\n",
    "results = model.fit(cov_type='clustered', cluster_entity=True)\n",
    "print(results.summary)"
   ]
  },
  {
   "cell_type": "code",
   "execution_count": null,
   "id": "a9bcb3e8",
   "metadata": {},
   "outputs": [],
   "source": [
    "data_pr = data[data[\"foreign\"] == 1]\n",
    "data_panel = data_pr.set_index([\"main_id\",\"date2\"])\n",
    "# data_panel = data_panel.drop(\"geometry\", axis=1)\n",
    "model = PanelOLS.from_formula(\n",
    "    'log_total_employment ~ log_k_index + own_children6 + own_children17 + commute_car + food_stamp + with_social_security + EntityEffects',\n",
    "    data=data_panel\n",
    ")\n",
    "results = model.fit(cov_type='clustered', cluster_entity=True)\n",
    "print(results.summary)"
   ]
  },
  {
   "cell_type": "code",
   "execution_count": null,
   "id": "32052d0c",
   "metadata": {},
   "outputs": [],
   "source": [
    "data_pr = data\n",
    "data_panel = data_pr.set_index([\"main_id\",\"date2\"])\n",
    "# data_panel = data_panel.drop(\"geometry\", axis=1)\n",
    "model = PanelOLS.from_formula(\n",
    "    'log_total_employment ~ log_k_index + k_dummy + own_children6 + own_children17 + commute_car + food_stamp + with_social_security + EntityEffects',\n",
    "    data=data_panel\n",
    ")\n",
    "results = model.fit(cov_type='clustered', cluster_entity=True)\n",
    "print(results.summary)"
   ]
  },
  {
   "cell_type": "code",
   "execution_count": null,
   "id": "fa795c62",
   "metadata": {},
   "outputs": [],
   "source": [
    "data_pr = data[data[\"foreign\"] == 0]\n",
    "model = bmb.Model(\n",
    "    \"log_total_employment ~ 0 + date + ein + log_k_index + own_children6 + own_children17 + commute_car + food_stamp + with_social_security\",\n",
    "    data_pr, dropna=True,\n",
    ")\n",
    "results = model.fit()\n",
    "\n"
   ]
  },
  {
   "cell_type": "code",
   "execution_count": null,
   "id": "4aeb19c6",
   "metadata": {},
   "outputs": [],
   "source": [
    "data_pr = data[data[\"foreign\"] == 1]\n",
    "model = bmb.Model(\n",
    "    \"total_employment ~ 0 + date + ein + k_index + own_children6 + own_children17 + commute_car + food_stamp + with_social_security\",\n",
    "    data_pr, dropna=True,\n",
    ")\n",
    "results2 = model.fit()"
   ]
  },
  {
   "cell_type": "code",
   "execution_count": null,
   "id": "cc3ea0bf",
   "metadata": {},
   "outputs": [],
   "source": [
    "az.to_netcdf(results2, \"results_model2.nc\")"
   ]
  },
  {
   "cell_type": "code",
   "execution_count": null,
   "id": "8058a3c7",
   "metadata": {},
   "outputs": [],
   "source": [
    "results2 = az.from_netcdf(\"results_model2.nc\")"
   ]
  },
  {
   "cell_type": "code",
   "execution_count": null,
   "id": "f3dde06c",
   "metadata": {},
   "outputs": [],
   "source": [
    "combined_results = results.extend(results2)"
   ]
  },
  {
   "cell_type": "code",
   "execution_count": null,
   "id": "12004cd7",
   "metadata": {},
   "outputs": [],
   "source": [
    "az.style.use(\"arviz-darkgrid\")\n",
    "# results.posterior = results.posterior.rename({\"k_index\": \"k_index_51\"})\n",
    "az.plot_trace(results2)"
   ]
  },
  {
   "cell_type": "code",
   "execution_count": null,
   "id": "93faa2ef",
   "metadata": {},
   "outputs": [],
   "source": [
    "\n",
    "\n",
    "plt.savefig(\"data/results/trace_plot_pr.png\", format=\"png\")\n",
    "\n",
    "res = az.summary(results)\n",
    "res.to_csv(\"data/results/results_pr.csv\")"
   ]
  },
  {
   "cell_type": "code",
   "execution_count": null,
   "id": "68e7ed6b",
   "metadata": {},
   "outputs": [],
   "source": [
    "data_pr = data[data[\"foreign\"] == 1]\n",
    "model = bmb.Model(\n",
    "    \"total_employment ~ 0 + k_index + own_children6 + own_children17  + commute_car + food_stamp + with_social_security\",\n",
    "    data_pr, dropna=True,\n",
    ")\n",
    "results = model.fit(sample_kwargs={\"nuts_sampler\" :\"blackjax\"},cores=15)\n",
    "\n",
    "az.plot_trace(\n",
    "    results\n",
    ")\n",
    "\n",
    "plt.savefig(\"data/results/trace_plot_foreing.png\", format=\"png\")\n",
    "\n",
    "res = az.summary(results)\n",
    "res.to_csv(\"data/results/results_foreing.csv\")"
   ]
  },
  {
   "cell_type": "code",
   "execution_count": null,
   "id": "9c16f6b1",
   "metadata": {},
   "outputs": [],
   "source": [
    "model = bmb.Model(\n",
    "    \"total_employment ~ 0 + k_index + k_dummy + own_children6 + own_children17  + commute_car + food_stamp + with_social_security\",\n",
    "    data, dropna=True,\n",
    ")\n",
    "results = model.fit(sample_kwargs={\"nuts_sampler\" :\"blackjax\"},cores=15)\n",
    "\n",
    "az.plot_trace(\n",
    "    results\n",
    ")\n",
    "\n",
    "plt.savefig(\"data/results/trace_plot_full.png\", format=\"png\")\n",
    "\n",
    "res = az.summary(results)\n",
    "res.to_csv(\"data/results/results_full.csv\")"
   ]
  }
 ],
 "metadata": {
  "kernelspec": {
   "display_name": ".venv",
   "language": "python",
   "name": "python3"
  },
  "language_info": {
   "codemirror_mode": {
    "name": "ipython",
    "version": 3
   },
   "file_extension": ".py",
   "mimetype": "text/x-python",
   "name": "python",
   "nbconvert_exporter": "python",
   "pygments_lexer": "ipython3",
   "version": "3.10.17"
  }
 },
 "nbformat": 4,
 "nbformat_minor": 5
}
