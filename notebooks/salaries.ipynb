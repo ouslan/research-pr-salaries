{
 "cells": [
  {
   "cell_type": "code",
   "execution_count": null,
   "id": "6015e284",
   "metadata": {},
   "outputs": [],
   "source": [
    "import os\n",
    "os.chdir(\"..\")"
   ]
  },
  {
   "cell_type": "code",
   "execution_count": null,
   "id": "625aa3d8",
   "metadata": {},
   "outputs": [],
   "source": [
    "from src.data.data_process import DataReg\n",
    "import arviz as az\n",
    "import bambi as bmb\n",
    "import matplotlib.pyplot as plt\n",
    "from linearmodels.panel import RandomEffects, PanelOLS\n",
    "import polars as pl\n",
    "\n",
    "dr = DataReg()"
   ]
  },
  {
   "cell_type": "code",
   "execution_count": null,
   "id": "3fe24ff9",
   "metadata": {},
   "outputs": [],
   "source": [
    "df_qcew = dr.regular_data()\n",
    "\n",
    "df_qcew.group_by([\"year\", \"qtr\", \"zipcode\", \"ein\"]).agg(\n",
    "           total_employment=pl.col(\"total_employment\").sum(),\n",
    "            total_wages=pl.col(\"total_wages\").sum()\n",
    "        )\n",
    "tmp = pl.from_pandas(dr.make_spatial_dataset().drop(\"geometry\", axis=1))\n",
    "tmp"
   ]
  },
  {
   "cell_type": "code",
   "execution_count": null,
   "id": "c7883270",
   "metadata": {},
   "outputs": [],
   "source": [
    "master = df_qcew.join(tmp,on=[\"year\",\"qtr\",\"zipcode\"], how=\"inner\", validate=\"m:1\")\n",
    "master"
   ]
  },
  {
   "cell_type": "code",
   "execution_count": null,
   "id": "6506f471",
   "metadata": {},
   "outputs": [],
   "source": [
    "data = master.to_pandas().copy()\n",
    "data[\"date2\"] = data[\"year\"] * 10 + data[\"qtr\"]\n",
    "data['date'] = data['date2'].astype('category')\n",
    "data['zipcode'] = data['zipcode'].astype('category')\n",
    "data['ein'] = data['ein'].astype('category')"
   ]
  },
  {
   "cell_type": "code",
   "execution_count": null,
   "id": "fa795c62",
   "metadata": {},
   "outputs": [],
   "source": [
    "model = bmb.Model(\n",
    "    \"total_employment ~ 0 + k_index + own_children6 + own_children17  + commute_car + food_stamp + with_social_security\",\n",
    "    data, dropna=True,\n",
    ")\n",
    "results = model.fit(sample_kwargs={\"nuts_sampler\" :\"blackjax\"})"
   ]
  },
  {
   "cell_type": "code",
   "execution_count": null,
   "id": "1addb7f1",
   "metadata": {},
   "outputs": [],
   "source": [
    "# Plot posteriors\n",
    "az.plot_trace(\n",
    "    results,\n",
    "    compact=True,\n",
    ")"
   ]
  },
  {
   "cell_type": "code",
   "execution_count": null,
   "id": "5561c681",
   "metadata": {},
   "outputs": [],
   "source": [
    "import jax"
   ]
  },
  {
   "cell_type": "code",
   "execution_count": null,
   "id": "bd0bfc6c",
   "metadata": {},
   "outputs": [],
   "source": [
    "print(jax.devices())"
   ]
  }
 ],
 "metadata": {
  "kernelspec": {
   "display_name": ".venv",
   "language": "python",
   "name": "python3"
  },
  "language_info": {
   "codemirror_mode": {
    "name": "ipython",
    "version": 3
   },
   "file_extension": ".py",
   "mimetype": "text/x-python",
   "name": "python",
   "nbconvert_exporter": "python",
   "pygments_lexer": "ipython3",
   "version": "3.10.17"
  }
 },
 "nbformat": 4,
 "nbformat_minor": 5
}
