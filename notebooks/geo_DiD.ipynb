{
 "cells": [
  {
   "cell_type": "code",
   "execution_count": 1,
   "id": "d66c46e4",
   "metadata": {},
   "outputs": [],
   "source": [
    "import os\n",
    "os.chdir(\"..\")"
   ]
  },
  {
   "cell_type": "code",
   "execution_count": 2,
   "id": "62b94500",
   "metadata": {},
   "outputs": [],
   "source": [
    "from src.data.data_process import DataReg\n",
    "import polars as pl\n",
    "import arviz as az\n",
    "import matplotlib.dates as mdates\n",
    "import numpy as np\n",
    "import geopandas as gpd\n",
    "import causalpy as cp\n",
    "import pandas as pd\n",
    "from shapely import wkt\n",
    "import matplotlib.pyplot as plt\n",
    "dr = DataReg()"
   ]
  },
  {
   "cell_type": "code",
   "execution_count": 1,
   "id": "591f1f14",
   "metadata": {},
   "outputs": [
    {
     "ename": "NameError",
     "evalue": "name 'dr' is not defined",
     "output_type": "error",
     "traceback": [
      "\u001b[31m---------------------------------------------------------------------------\u001b[39m",
      "\u001b[31mNameError\u001b[39m                                 Traceback (most recent call last)",
      "\u001b[36mCell\u001b[39m\u001b[36m \u001b[39m\u001b[32mIn[1]\u001b[39m\u001b[32m, line 1\u001b[39m\n\u001b[32m----> \u001b[39m\u001b[32m1\u001b[39m \u001b[43mdr\u001b[49m.conn.sql(\u001b[33m\"\u001b[39m\u001b[33mSELECT\u001b[39m\u001b[33m\"\u001b[39m)\n",
      "\u001b[31mNameError\u001b[39m: name 'dr' is not defined"
     ]
    }
   ],
   "source": [
    "dr.conn.sql(\"SELECT\")"
   ]
  },
  {
   "cell_type": "code",
   "execution_count": null,
   "id": "78faa7e1",
   "metadata": {},
   "outputs": [],
   "source": [
    "pr_zips = gpd.GeoDataFrame(dr.make_spatial_table().df())\n",
    "pr_zips[\"geometry\"] = pr_zips[\"geometry\"].apply(wkt.loads)\n",
    "pr_zips = pr_zips.set_geometry(\"geometry\")\n",
    "pr_zips[\"zipcode\"] = pr_zips[\"zipcode\"].astype(str)\n",
    "pr_zips"
   ]
  },
  {
   "cell_type": "code",
   "execution_count": null,
   "id": "e25c34ce",
   "metadata": {},
   "outputs": [],
   "source": [
    "result_spatial = cp.DifferenceInDifferences(\n",
    "    df_long[df_long.year.isin([-0.5, 0.5])],\n",
    "    formula=\"bib ~ 1 + district * post_treatment + spatial_lag\",  # Include spatial lag\n",
    "    time_variable_name=\"post_treatment\",\n",
    "    group_variable_name=\"district\",\n",
    "    model=cp.pymc_models.LinearRegression(\n",
    "        sample_kwargs={\"target_accept\": 0.98, \"random_seed\": seed}\n",
    "    ),\n",
    ")\n"
   ]
  }
 ],
 "metadata": {
  "kernelspec": {
   "display_name": ".venv",
   "language": "python",
   "name": "python3"
  },
  "language_info": {
   "codemirror_mode": {
    "name": "ipython",
    "version": 3
   },
   "file_extension": ".py",
   "mimetype": "text/x-python",
   "name": "python",
   "nbconvert_exporter": "python",
   "pygments_lexer": "ipython3",
   "version": "3.13.2"
  }
 },
 "nbformat": 4,
 "nbformat_minor": 5
}
